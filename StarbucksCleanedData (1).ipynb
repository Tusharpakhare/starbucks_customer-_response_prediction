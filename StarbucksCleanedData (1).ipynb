{
 "cells": [
  {
   "cell_type": "code",
   "execution_count": 2,
   "id": "9435e269",
   "metadata": {},
   "outputs": [
    {
     "name": "stdout",
     "output_type": "stream",
     "text": [
      "Requirement already satisfied: pyspark in c:\\users\\acer\\appdata\\local\\programs\\python\\python310\\lib\\site-packages (3.3.0)\n",
      "Requirement already satisfied: py4j==0.10.9.5 in c:\\users\\acer\\appdata\\local\\programs\\python\\python310\\lib\\site-packages (from pyspark) (0.10.9.5)\n",
      "Requirement already satisfied: findspark in c:\\users\\acer\\appdata\\local\\programs\\python\\python310\\lib\\site-packages (2.0.1)\n"
     ]
    }
   ],
   "source": [
    "!pip install pyspark\n",
    "!pip install findspark"
   ]
  },
  {
   "cell_type": "code",
   "execution_count": 3,
   "id": "0a7c1897",
   "metadata": {},
   "outputs": [],
   "source": [
    "import pyspark\n",
    "import findspark\n",
    "from pyspark import SparkFiles\n",
    "import json\n",
    "findspark.init()\n",
    "from pyspark.sql.functions import isnull, when, count, col\n",
    "findspark.find()\n",
    "from pyspark.ml.feature import Imputer\n",
    "from pyspark.sql.functions import *\n",
    "from pyspark.ml.feature import Imputer\n",
    "from pyspark.sql.types import * \n",
    "import pandas as pd\n",
    "from pyspark.sql import SparkSession\n",
    "from pyspark.sql import functions as f\n",
    "from pyspark.sql import SparkSession, SQLContext\n",
    "from pyspark import SparkConf, SparkContext\n",
    "import warnings\n",
    "%matplotlib inline\n",
    "from pyspark.sql.functions import *\n",
    "from pyspark.sql.functions import year, month, dayofweek\n",
    "warnings.filterwarnings('ignore')\n",
    "from pyspark.ml.feature import StringIndexer\n",
    "from datetime import datetime\n",
    "from pyspark.sql.functions import col,udf\n",
    "from pyspark.sql.types import DateType\n",
    "from pyspark.sql.functions import isnan, when, count, col\n",
    "import pymongo"
   ]
  },
  {
   "cell_type": "code",
   "execution_count": 4,
   "id": "44438a34",
   "metadata": {},
   "outputs": [
    {
     "name": "stdout",
     "output_type": "stream",
     "text": [
      "3.3.0\n"
     ]
    }
   ],
   "source": [
    "import findspark\n",
    "findspark.init()\n",
    "findspark.find()\n",
    "print(pyspark.__version__)"
   ]
  },
  {
   "cell_type": "code",
   "execution_count": null,
   "id": "9fb4b33b",
   "metadata": {},
   "outputs": [],
   "source": []
  },
  {
   "cell_type": "code",
   "execution_count": 5,
   "id": "d67e284a",
   "metadata": {},
   "outputs": [],
   "source": [
    "#spark = SparkSession.builder.appName(\"myApp\").config(\"spark.mongodb.input.uri\",\"mongodb://localhost:27017/starbucks.starbucks?readPreference=primaryPreferred\").config(\"spark.mongodb.output.uri\",\"mongodb://localhost:27017/starbucks.starbucks\").config(\"spark.jars.packages\",\"org.mongodb.spark:mongo-spark-connector_2.12:3.0.0\").getOrCreate()"
   ]
  },
  {
   "cell_type": "code",
   "execution_count": 6,
   "id": "bd0b5d36",
   "metadata": {},
   "outputs": [],
   "source": [
    "#Create sparksession and mongoDB connectivity\n",
    "#spark = SparkSession.builder.appName(\"Project\")\\\n",
    " #       .master(\"local\")\\\n",
    "  #      .config(\"spark.mongodb.input.uri\",\"mongodb://localhost:27017/projectdata.projectdata\")\\\n",
    "  #      .config(\"spark.mongodb.output.uri\",\"mongodb://localhost:27017/projectdata.projectdata\")\\\n",
    "  #      .config(\"spark.jars\",\"C:/Users/vipin/anaconda3/Lib/site-packages/pyspark/jars//\" \"mongo-spark-connector_2.12-3.0.1.jar,bson-4.0.5.jar,mongodb-driver-core-4.0.5.jar,mongodb-driver-sync-4.0.5.jar,scala-library-2.12.11.jar\").getOrCreate()\n",
    "        "
   ]
  },
  {
   "cell_type": "code",
   "execution_count": 7,
   "id": "57ba21dd",
   "metadata": {},
   "outputs": [],
   "source": [
    "spark = SparkSession.builder.appName(\"myApp\").config(\"spark.mongodb.input.uri\",\"mongodb://localhost:27017/starbucks.starbucks?readPreference=primaryPreferred\").config(\"spark.mongodb.output.uri\",\"mongodb://localhost:27017/starbucks.starbucks\").config(\"spark.jars.packages\",\"org.mongodb.spark:mongo-spark-connector_2.12:3.0.0\").getOrCreate()"
   ]
  },
  {
   "cell_type": "markdown",
   "id": "f88a93fd",
   "metadata": {},
   "source": [
    "# DOWNLOADING DATASETS"
   ]
  },
  {
   "cell_type": "code",
   "execution_count": 8,
   "id": "c4a603c3",
   "metadata": {},
   "outputs": [],
   "source": [
    "spark.sparkContext.addFile(\"https://raw.githubusercontent.com/reachanihere/Starbucks-Capstone/master/data/portfolio.json\")\n",
    "portfolio=spark.read.json(SparkFiles.get(\"portfolio.json\"))\n",
    "portfolio=portfolio.withColumnRenamed('id', 'offer_id')\n",
    "#portfolio.show()"
   ]
  },
  {
   "cell_type": "code",
   "execution_count": 9,
   "id": "2f2b8ffd",
   "metadata": {},
   "outputs": [],
   "source": [
    "#Dumping the data in mongodb\n",
    "#ml = spark.read.format(\"mongo\").option(\"uri\",\"mongodb://localhost:27017/starbucks.data_for_ml\").load()\n",
    "#portfolio.write.format(\"mongo\").option(\"uri\",\"mongodb://localhost:27017/starbucks.data_for_ml\").save()"
   ]
  },
  {
   "cell_type": "code",
   "execution_count": 10,
   "id": "0c2e7066",
   "metadata": {},
   "outputs": [],
   "source": [
    "spark.sparkContext.addFile(\"https://raw.githubusercontent.com/reachanihere/Starbucks-Capstone/master/data/transcript.json\")\n",
    "transcript=spark.read.json(SparkFiles.get(\"transcript.json\"))\n",
    "#transcript.show()"
   ]
  },
  {
   "cell_type": "code",
   "execution_count": 11,
   "id": "bb689d67",
   "metadata": {},
   "outputs": [
    {
     "name": "stdout",
     "output_type": "stream",
     "text": [
      "+--------------+--------------------+----+--------------------+------+------+\n",
      "|         event|         customer_id|time|            offer_id|amount|reward|\n",
      "+--------------+--------------------+----+--------------------+------+------+\n",
      "|offer received|78afa995795e4d85b...|   0|9b98b8c7a33c4b65b...|  null|  null|\n",
      "|offer received|a03223e636434f42a...|   0|0b1e1539f2cc45b7b...|  null|  null|\n",
      "|offer received|e2127556f4f64592b...|   0|2906b810c7d441179...|  null|  null|\n",
      "|offer received|8ec6ce2a7e7949b1b...|   0|fafdcd668e3743c1b...|  null|  null|\n",
      "|offer received|68617ca6246f4fbc8...|   0|4d5c57ea9a6940dd8...|  null|  null|\n",
      "|offer received|389bc3fa690240e79...|   0|f19421c1d4aa40978...|  null|  null|\n",
      "|offer received|c4863c7985cf408fa...|   0|2298d6c36e964ae4a...|  null|  null|\n",
      "|offer received|2eeac8d8feae4a8ca...|   0|3f207df678b143eea...|  null|  null|\n",
      "|offer received|aa4862eba776480b8...|   0|0b1e1539f2cc45b7b...|  null|  null|\n",
      "|offer received|31dda685af34476ca...|   0|0b1e1539f2cc45b7b...|  null|  null|\n",
      "|offer received|744d603ef08c4f33a...|   0|0b1e1539f2cc45b7b...|  null|  null|\n",
      "|offer received|3d02345581554e81b...|   0|0b1e1539f2cc45b7b...|  null|  null|\n",
      "|offer received|4b0da7e80e5945209...|   0|ae264e3637204a6fb...|  null|  null|\n",
      "|offer received|c27e0d6ab72c455a8...|   0|3f207df678b143eea...|  null|  null|\n",
      "|offer received|d53717f5400c4e84a...|   0|0b1e1539f2cc45b7b...|  null|  null|\n",
      "|offer received|f806632c011441378...|   0|fafdcd668e3743c1b...|  null|  null|\n",
      "|offer received|d058f73bf8674a26a...|   0|0b1e1539f2cc45b7b...|  null|  null|\n",
      "|offer received|65aba5c617294649a...|   0|2906b810c7d441179...|  null|  null|\n",
      "|offer received|ebe7ef46ea6f4963a...|   0|9b98b8c7a33c4b65b...|  null|  null|\n",
      "|offer received|1e9420836d554513a...|   0|ae264e3637204a6fb...|  null|  null|\n",
      "+--------------+--------------------+----+--------------------+------+------+\n",
      "only showing top 20 rows\n",
      "\n"
     ]
    }
   ],
   "source": [
    "transcript=transcript.select('event','person','time','value.offer id','value.amount','value.reward')\n",
    "transcript=transcript.withColumnRenamed('offer id', 'offer_id')\n",
    "transcript=transcript.withColumnRenamed('person', 'customer_id')\n",
    "transcript.show()"
   ]
  },
  {
   "cell_type": "code",
   "execution_count": 12,
   "id": "2f030d3c",
   "metadata": {},
   "outputs": [],
   "source": [
    "spark.sparkContext.addFile(\"https://raw.githubusercontent.com/ravishchawla/DataAnalysisWithStarbucks/master/data/profile.json\")\n",
    "profile=spark.read.json(SparkFiles.get(\"profile.json\"))\n",
    "profile=profile.withColumnRenamed('id', 'customer_id')\n",
    "#profile.show()"
   ]
  },
  {
   "cell_type": "markdown",
   "id": "cd3324c2",
   "metadata": {},
   "source": [
    "# Joining Table"
   ]
  },
  {
   "cell_type": "code",
   "execution_count": 13,
   "id": "0f8dd7a1",
   "metadata": {},
   "outputs": [
    {
     "name": "stdout",
     "output_type": "stream",
     "text": [
      "+--------------------+--------------------+\n",
      "|        customer_id1|           offer_id1|\n",
      "+--------------------+--------------------+\n",
      "|78afa995795e4d85b...|9b98b8c7a33c4b65b...|\n",
      "|a03223e636434f42a...|0b1e1539f2cc45b7b...|\n",
      "|e2127556f4f64592b...|2906b810c7d441179...|\n",
      "|8ec6ce2a7e7949b1b...|fafdcd668e3743c1b...|\n",
      "|68617ca6246f4fbc8...|4d5c57ea9a6940dd8...|\n",
      "|389bc3fa690240e79...|f19421c1d4aa40978...|\n",
      "|c4863c7985cf408fa...|2298d6c36e964ae4a...|\n",
      "|2eeac8d8feae4a8ca...|3f207df678b143eea...|\n",
      "|aa4862eba776480b8...|0b1e1539f2cc45b7b...|\n",
      "|31dda685af34476ca...|0b1e1539f2cc45b7b...|\n",
      "|744d603ef08c4f33a...|0b1e1539f2cc45b7b...|\n",
      "|3d02345581554e81b...|0b1e1539f2cc45b7b...|\n",
      "|4b0da7e80e5945209...|ae264e3637204a6fb...|\n",
      "|c27e0d6ab72c455a8...|3f207df678b143eea...|\n",
      "|d53717f5400c4e84a...|0b1e1539f2cc45b7b...|\n",
      "|f806632c011441378...|fafdcd668e3743c1b...|\n",
      "|d058f73bf8674a26a...|0b1e1539f2cc45b7b...|\n",
      "|65aba5c617294649a...|2906b810c7d441179...|\n",
      "|ebe7ef46ea6f4963a...|9b98b8c7a33c4b65b...|\n",
      "|1e9420836d554513a...|ae264e3637204a6fb...|\n",
      "+--------------------+--------------------+\n",
      "only showing top 20 rows\n",
      "\n"
     ]
    }
   ],
   "source": [
    "transcript1=transcript.withColumnRenamed('customer_id', 'customer_id1')\n",
    "\n",
    "joiningTable=transcript1.join(profile,\n",
    "               transcript1.customer_id1 == profile.customer_id, \n",
    "               \"left\")\n",
    "joiningTable=joiningTable.drop(col(\"customer_id\"))\n",
    "joiningTable=joiningTable.select('customer_id1','offer_id')\n",
    "joiningTable=joiningTable.withColumnRenamed('offer_id', 'offer_id1')\n",
    "joiningTable.show()"
   ]
  },
  {
   "cell_type": "markdown",
   "id": "b94149ea",
   "metadata": {},
   "source": [
    "# EDITING OF PROFILE"
   ]
  },
  {
   "cell_type": "code",
   "execution_count": 14,
   "id": "dac357f6",
   "metadata": {},
   "outputs": [
    {
     "data": {
      "text/plain": [
       "2175"
      ]
     },
     "execution_count": 14,
     "metadata": {},
     "output_type": "execute_result"
    }
   ],
   "source": [
    "age118=profile.filter(col(\"age\") == 118)\n",
    "profile.filter(col(\"age\") == 118).count()"
   ]
  },
  {
   "cell_type": "code",
   "execution_count": 15,
   "id": "379c800e",
   "metadata": {},
   "outputs": [
    {
     "name": "stdout",
     "output_type": "stream",
     "text": [
      "+---+----------------+------+--------------------+------+\n",
      "|age|became_member_on|gender|         customer_id|income|\n",
      "+---+----------------+------+--------------------+------+\n",
      "|118|        20170212|  null|68be06ca386d4c319...|  null|\n",
      "| 55|        20170715|     F|0610b486422d4921a...|112000|\n",
      "|118|        20180712|  null|38fe809add3b4fcf9...|  null|\n",
      "| 75|        20170509|     F|78afa995795e4d85b...|100000|\n",
      "|118|        20170804|  null|a03223e636434f42a...|  null|\n",
      "| 68|        20180426|     M|e2127556f4f64592b...| 70000|\n",
      "|118|        20170925|  null|8ec6ce2a7e7949b1b...|  null|\n",
      "|118|        20171002|  null|68617ca6246f4fbc8...|  null|\n",
      "| 65|        20180209|     M|389bc3fa690240e79...| 53000|\n",
      "|118|        20161122|  null|8974fc5686fe429db...|  null|\n",
      "|118|        20170824|  null|c4863c7985cf408fa...|  null|\n",
      "|118|        20150919|  null|148adfcaa27d485b8...|  null|\n",
      "| 58|        20171111|     M|2eeac8d8feae4a8ca...| 51000|\n",
      "| 61|        20170911|     F|aa4862eba776480b8...| 57000|\n",
      "| 26|        20140213|     M|e12aeaf2d47d42479...| 46000|\n",
      "| 62|        20160211|     F|31dda685af34476ca...| 71000|\n",
      "| 49|        20141113|     M|62cf5e10845442329...| 52000|\n",
      "|118|        20170801|  null|744d603ef08c4f33a...|  null|\n",
      "| 57|        20171231|     M|6445de3b47274c759...| 42000|\n",
      "| 61|        20180501|     F|a448667f336b42c9a...| 40000|\n",
      "+---+----------------+------+--------------------+------+\n",
      "only showing top 20 rows\n",
      "\n"
     ]
    }
   ],
   "source": [
    "profile=profile.withColumnRenamed(\"id\",\"customer_id\")\n",
    "profile.show()"
   ]
  },
  {
   "cell_type": "code",
   "execution_count": 16,
   "id": "50c2e65e",
   "metadata": {},
   "outputs": [],
   "source": [
    "func =  udf (lambda x: datetime.strptime(x, '%Y%m%d'), DateType())\n",
    "\n",
    "profile=profile.withColumn('became_member_on', date_format(func(col('became_member_on')), 'yyyy-MM-dd'))\n",
    "#profile.show()\n"
   ]
  },
  {
   "cell_type": "code",
   "execution_count": 17,
   "id": "e8991192",
   "metadata": {},
   "outputs": [],
   "source": [
    "profile = profile.withColumn('dayOfWeek', dayofweek(col('became_member_on')))\n",
    "profile = profile.withColumn('joining_month', month(col('became_member_on')))\n",
    "profile = profile.withColumn('joining_year', year(col('became_member_on')))\n",
    "#profile.show()"
   ]
  },
  {
   "cell_type": "code",
   "execution_count": null,
   "id": "726402e2",
   "metadata": {},
   "outputs": [],
   "source": []
  },
  {
   "cell_type": "code",
   "execution_count": 18,
   "id": "8d344285",
   "metadata": {},
   "outputs": [
    {
     "name": "stdout",
     "output_type": "stream",
     "text": [
      "+---+----------------+------+--------------------+------+---------+-------------+------------+------------+--------+\n",
      "|age|became_member_on|gender|         customer_id|income|dayOfWeek|joining_month|joining_year|current_date|datediff|\n",
      "+---+----------------+------+--------------------+------+---------+-------------+------------+------------+--------+\n",
      "|118|      2017-02-12|  null|68be06ca386d4c319...|  null|        1|            2|        2017|  2022-09-21|    2047|\n",
      "| 55|      2017-07-15|     F|0610b486422d4921a...|112000|        7|            7|        2017|  2022-09-21|    1894|\n",
      "|118|      2018-07-12|  null|38fe809add3b4fcf9...|  null|        5|            7|        2018|  2022-09-21|    1532|\n",
      "| 75|      2017-05-09|     F|78afa995795e4d85b...|100000|        3|            5|        2017|  2022-09-21|    1961|\n",
      "|118|      2017-08-04|  null|a03223e636434f42a...|  null|        6|            8|        2017|  2022-09-21|    1874|\n",
      "| 68|      2018-04-26|     M|e2127556f4f64592b...| 70000|        5|            4|        2018|  2022-09-21|    1609|\n",
      "|118|      2017-09-25|  null|8ec6ce2a7e7949b1b...|  null|        2|            9|        2017|  2022-09-21|    1822|\n",
      "|118|      2017-10-02|  null|68617ca6246f4fbc8...|  null|        2|           10|        2017|  2022-09-21|    1815|\n",
      "| 65|      2018-02-09|     M|389bc3fa690240e79...| 53000|        6|            2|        2018|  2022-09-21|    1685|\n",
      "|118|      2016-11-22|  null|8974fc5686fe429db...|  null|        3|           11|        2016|  2022-09-21|    2129|\n",
      "|118|      2017-08-24|  null|c4863c7985cf408fa...|  null|        5|            8|        2017|  2022-09-21|    1854|\n",
      "|118|      2015-09-19|  null|148adfcaa27d485b8...|  null|        7|            9|        2015|  2022-09-21|    2559|\n",
      "| 58|      2017-11-11|     M|2eeac8d8feae4a8ca...| 51000|        7|           11|        2017|  2022-09-21|    1775|\n",
      "| 61|      2017-09-11|     F|aa4862eba776480b8...| 57000|        2|            9|        2017|  2022-09-21|    1836|\n",
      "| 26|      2014-02-13|     M|e12aeaf2d47d42479...| 46000|        5|            2|        2014|  2022-09-21|    3142|\n",
      "| 62|      2016-02-11|     F|31dda685af34476ca...| 71000|        5|            2|        2016|  2022-09-21|    2414|\n",
      "| 49|      2014-11-13|     M|62cf5e10845442329...| 52000|        5|           11|        2014|  2022-09-21|    2869|\n",
      "|118|      2017-08-01|  null|744d603ef08c4f33a...|  null|        3|            8|        2017|  2022-09-21|    1877|\n",
      "| 57|      2017-12-31|     M|6445de3b47274c759...| 42000|        1|           12|        2017|  2022-09-21|    1725|\n",
      "| 61|      2018-05-01|     F|a448667f336b42c9a...| 40000|        3|            5|        2018|  2022-09-21|    1604|\n",
      "+---+----------------+------+--------------------+------+---------+-------------+------------+------------+--------+\n",
      "only showing top 20 rows\n",
      "\n"
     ]
    }
   ],
   "source": [
    "profile=profile.select(\n",
    "      col(\"age\"),col(\"became_member_on\"),col(\"gender\"),col(\"customer_id\"),col(\"income\"),col(\"dayOfWeek\"),col(\"joining_month\"),col(\"joining_year\"),\n",
    "      current_date().alias(\"current_date\"),\n",
    "      datediff(current_date(),col(\"became_member_on\")).alias(\"datediff\")\n",
    "    )\n",
    "profile.show()"
   ]
  },
  {
   "cell_type": "code",
   "execution_count": 19,
   "id": "456dd094",
   "metadata": {},
   "outputs": [
    {
     "name": "stdout",
     "output_type": "stream",
     "text": [
      "+---+----------------+------+-----------+------+---------+-------------+------------+------------+--------+\n",
      "|age|became_member_on|gender|customer_id|income|dayOfWeek|joining_month|joining_year|current_date|datediff|\n",
      "+---+----------------+------+-----------+------+---------+-------------+------------+------------+--------+\n",
      "|  0|               0|  2175|          0|  2175|        0|            0|           0|           0|       0|\n",
      "+---+----------------+------+-----------+------+---------+-------------+------------+------------+--------+\n",
      "\n"
     ]
    }
   ],
   "source": [
    "profile.select([count(when(isnull(c), c)).alias(c) for c in profile.columns]).show()"
   ]
  },
  {
   "cell_type": "code",
   "execution_count": 20,
   "id": "820baefc",
   "metadata": {},
   "outputs": [
    {
     "name": "stdout",
     "output_type": "stream",
     "text": [
      "+---+----------------+------+--------------------+------+---------+-------------+------------+------------+--------+\n",
      "|age|became_member_on|gender|         customer_id|income|dayOfWeek|joining_month|joining_year|current_date|datediff|\n",
      "+---+----------------+------+--------------------+------+---------+-------------+------------+------------+--------+\n",
      "|118|      2017-02-12|  null|68be06ca386d4c319...|  null|        1|            2|        2017|  2022-09-21|    2047|\n",
      "|118|      2018-07-12|  null|38fe809add3b4fcf9...|  null|        5|            7|        2018|  2022-09-21|    1532|\n",
      "|118|      2017-08-04|  null|a03223e636434f42a...|  null|        6|            8|        2017|  2022-09-21|    1874|\n",
      "|118|      2017-09-25|  null|8ec6ce2a7e7949b1b...|  null|        2|            9|        2017|  2022-09-21|    1822|\n",
      "|118|      2017-10-02|  null|68617ca6246f4fbc8...|  null|        2|           10|        2017|  2022-09-21|    1815|\n",
      "|118|      2016-11-22|  null|8974fc5686fe429db...|  null|        3|           11|        2016|  2022-09-21|    2129|\n",
      "|118|      2017-08-24|  null|c4863c7985cf408fa...|  null|        5|            8|        2017|  2022-09-21|    1854|\n",
      "|118|      2015-09-19|  null|148adfcaa27d485b8...|  null|        7|            9|        2015|  2022-09-21|    2559|\n",
      "|118|      2017-08-01|  null|744d603ef08c4f33a...|  null|        3|            8|        2017|  2022-09-21|    1877|\n",
      "|118|      2017-09-07|  null|2b826eba31074a059...|  null|        5|            9|        2017|  2022-09-21|    1840|\n",
      "|118|      2017-03-30|  null|65aba5c617294649a...|  null|        5|            3|        2017|  2022-09-21|    2001|\n",
      "|118|      2016-07-07|  null|4beeb3ed64dd4898b...|  null|        5|            7|        2016|  2022-09-21|    2267|\n",
      "|118|      2018-01-13|  null|25c906289d154b66b...|  null|        7|            1|        2018|  2022-09-21|    1712|\n",
      "|118|      2014-11-11|  null|5b8f1f0e0930464f9...|  null|        3|           11|        2014|  2022-09-21|    2871|\n",
      "|118|      2017-05-11|  null|8be4463721e14d7fa...|  null|        5|            5|        2017|  2022-09-21|    1959|\n",
      "|118|      2017-05-28|  null|81ac76e4f2fe4a6bb...|  null|        1|            5|        2017|  2022-09-21|    1942|\n",
      "|118|      2017-10-13|  null|020d3a52b9ce432ea...|  null|        6|           10|        2017|  2022-09-21|    1804|\n",
      "|118|      2015-12-20|  null|4be1127413db496d8...|  null|        1|           12|        2015|  2022-09-21|    2467|\n",
      "|118|      2017-09-18|  null|9d8d6bb2fc544a9c8...|  null|        2|            9|        2017|  2022-09-21|    1829|\n",
      "|118|      2015-09-20|  null|a89752cdfdf24779a...|  null|        1|            9|        2015|  2022-09-21|    2558|\n",
      "+---+----------------+------+--------------------+------+---------+-------------+------------+------------+--------+\n",
      "only showing top 20 rows\n",
      "\n"
     ]
    }
   ],
   "source": [
    "age118=profile.filter(col(\"age\") == 118)\n",
    "#where age==118 gender and income is not given\n",
    "age118.show()"
   ]
  },
  {
   "cell_type": "code",
   "execution_count": 21,
   "id": "85b6a2c6",
   "metadata": {},
   "outputs": [
    {
     "name": "stdout",
     "output_type": "stream",
     "text": [
      "+------+-----+\n",
      "|gender|count|\n",
      "+------+-----+\n",
      "|     F| 6129|\n",
      "|  null| 2175|\n",
      "|     M| 8484|\n",
      "|     O|  212|\n",
      "+------+-----+\n",
      "\n"
     ]
    }
   ],
   "source": [
    "profile.groupBy('gender').count().show()"
   ]
  },
  {
   "cell_type": "code",
   "execution_count": 22,
   "id": "60784bd4",
   "metadata": {},
   "outputs": [
    {
     "name": "stdout",
     "output_type": "stream",
     "text": [
      "+------+-----+\n",
      "|income|count|\n",
      "+------+-----+\n",
      "|  null| 2175|\n",
      "+------+-----+\n",
      "\n"
     ]
    }
   ],
   "source": [
    "age118.groupBy('income').count().show()"
   ]
  },
  {
   "cell_type": "code",
   "execution_count": 23,
   "id": "036f35d2",
   "metadata": {},
   "outputs": [],
   "source": [
    "profile=profile.na.drop()\n",
    "#profile.show()"
   ]
  },
  {
   "cell_type": "code",
   "execution_count": 24,
   "id": "76da1091",
   "metadata": {},
   "outputs": [
    {
     "data": {
      "text/plain": [
       "14825"
      ]
     },
     "execution_count": 24,
     "metadata": {},
     "output_type": "execute_result"
    }
   ],
   "source": [
    "profile.count()"
   ]
  },
  {
   "cell_type": "code",
   "execution_count": 25,
   "id": "337cd8d0",
   "metadata": {},
   "outputs": [
    {
     "data": {
      "text/plain": [
       "'gender_indexer = StringIndexer(inputCol=\"gender\", outputCol=\"genderIndex\")\\nprofile = gender_indexer.fit(profile).transform(profile)\\nprofile.show()'"
      ]
     },
     "execution_count": 25,
     "metadata": {},
     "output_type": "execute_result"
    }
   ],
   "source": [
    "'''gender_indexer = StringIndexer(inputCol=\"gender\", outputCol=\"genderIndex\")\n",
    "profile = gender_indexer.fit(profile).transform(profile)\n",
    "profile.show()'''"
   ]
  },
  {
   "cell_type": "code",
   "execution_count": 26,
   "id": "56034533",
   "metadata": {},
   "outputs": [],
   "source": [
    "profile=profile.withColumn('new_age', when((col('age') > lit(0)) & (col('age') < lit(10)),'age_10')\n",
    "                   .when((col('age') > lit(11)) & (col('age') < lit(20)),'age_20')\n",
    "                   .when((col('age') > lit(21)) & (col('age') < lit(30)),'age_30')\n",
    "                   .when((col('age') > lit(31)) & (col('age') < lit(40)),'age_40')\n",
    "                   .when((col('age') > lit(41)) & (col('age') < lit(50)),'age_50')\n",
    "                   .when((col('age') > lit(51)) & (col('age') < lit(60)),'age_60')\n",
    "                   .when((col('age') > lit(61)) & (col('age') < lit(70)),'age_70')\n",
    "                   .when((col('age') > lit(71)) & (col('age') < lit(80)),'age_80')\n",
    "                   .when((col('age') > lit(81)) & (col('age') < lit(90)),'age_90')\n",
    "                   .when((col('age') > lit(91)) & (col('age') < lit(100)),'age_100')).withColumn('drop_col',lit(1))\n",
    "#profile.show()"
   ]
  },
  {
   "cell_type": "code",
   "execution_count": 27,
   "id": "c7c77fce",
   "metadata": {},
   "outputs": [],
   "source": [
    "Original_profile=profile.select('age','became_member_on','gender','customer_id','income','joining_month','joining_year')\n",
    "#Original_profile.show()"
   ]
  },
  {
   "cell_type": "code",
   "execution_count": 28,
   "id": "07df7265",
   "metadata": {},
   "outputs": [],
   "source": [
    "profile_Age=profile.groupBy('customer_id').pivot('new_age').sum('drop_col')\n",
    "profile_Age=profile_Age.withColumnRenamed('customer_id', 'customer_id_age')\n",
    "profile_Age=profile_Age.withColumnRenamed('null', 'age_10')\n",
    "#profile_Age.show()"
   ]
  },
  {
   "cell_type": "code",
   "execution_count": 29,
   "id": "14ac10ca",
   "metadata": {},
   "outputs": [
    {
     "data": {
      "text/plain": [
       "14825"
      ]
     },
     "execution_count": 29,
     "metadata": {},
     "output_type": "execute_result"
    }
   ],
   "source": [
    "profile_Age.count()"
   ]
  },
  {
   "cell_type": "code",
   "execution_count": 30,
   "id": "540d834b",
   "metadata": {},
   "outputs": [],
   "source": [
    "profile_Income=Original_profile.withColumn('new_income', when((col('income') > lit(0)) & (col('income') < lit(30000)),'income_30')\n",
    "                   .when((col('income') > lit(30001)) & (col('income') < lit(40000)),'income_40')\n",
    "                   .when((col('income') > lit(40001)) & (col('income') < lit(50000)),'income_50')\n",
    "                   .when((col('income') > lit(50001)) & (col('income') < lit(60000)),'income_60')\n",
    "                   .when((col('income') > lit(60001)) & (col('income') < lit(70000)),'income_70')\n",
    "                   .when((col('income') > lit(70001)) & (col('income') < lit(80000)),'income_80')\n",
    "                   .when((col('income') > lit(80001)) & (col('income') < lit(90000)),'income_90')\n",
    "                   .when((col('income') > lit(90001)) & (col('income') < lit(100000)),'income_100')\n",
    "                   .when((col('income') > lit(100001)) & (col('income') < lit(110000)),'income_110')\n",
    "                    .when((col('income') > lit(110001)) & (col('income') < lit(120000)),'income_120')).withColumn('drop_col',lit(1))\n",
    "#profile_Income.show()"
   ]
  },
  {
   "cell_type": "code",
   "execution_count": 31,
   "id": "479d71b5",
   "metadata": {},
   "outputs": [],
   "source": [
    "profile_Income=profile_Income.groupBy('customer_id').pivot('new_income').sum('drop_col')\n",
    "profile_Income=profile_Income.withColumnRenamed('customer_id', 'customer_id_inc')\n",
    "profile_Income=profile_Income.withColumnRenamed('null', 'income_30')\n",
    "#profile_Income.show()"
   ]
  },
  {
   "cell_type": "code",
   "execution_count": 32,
   "id": "e90c615f",
   "metadata": {},
   "outputs": [],
   "source": [
    "profile_yr=Original_profile.withColumn('drop_col',lit(1))\n",
    "profile_yr=profile_yr.groupBy('customer_id').pivot('joining_year').sum('drop_col')\n",
    "profile_yr=profile_yr.withColumnRenamed('customer_id', 'customer_id_yr')\n",
    "#profile_yr.show()"
   ]
  },
  {
   "cell_type": "code",
   "execution_count": 33,
   "id": "bd02cf27",
   "metadata": {},
   "outputs": [],
   "source": [
    "Original_profile.withColumn('drop_col',lit(1))\n",
    "profile_month=profile.groupBy('customer_id').pivot('joining_month').sum('drop_col')\n",
    "profile_month=profile_month.withColumnRenamed('customer_id', 'customer_id_month')\n",
    "#profile_month.show()"
   ]
  },
  {
   "cell_type": "code",
   "execution_count": 34,
   "id": "46613c4f",
   "metadata": {},
   "outputs": [
    {
     "name": "stdout",
     "output_type": "stream",
     "text": [
      "+--------------------+----+----+----+\n",
      "|  customer_id_gender|   F|   M|   O|\n",
      "+--------------------+----+----+----+\n",
      "|559943eeb754463e8...|   1|null|null|\n",
      "|01e09d713abe4a36a...|   1|null|null|\n",
      "|f5de20984950433d9...|null|   1|null|\n",
      "|5465e844845a4a5c8...|null|   1|null|\n",
      "|907e78791e0a4e58b...|null|   1|null|\n",
      "|5abe3df001c14294a...|   1|null|null|\n",
      "|e5321ed1b91147fa9...|   1|null|null|\n",
      "|05ea8d8a95eb4b209...|   1|null|null|\n",
      "|1699f732aae74e71b...|null|   1|null|\n",
      "|9da3f2339b244229a...|   1|null|null|\n",
      "|628d90cb330a4c42a...|   1|null|null|\n",
      "|304183fd053441f0a...|null|   1|null|\n",
      "|b3d1075ec03c4c188...|null|   1|null|\n",
      "|08579355f46b49efa...|   1|null|null|\n",
      "|f3acf14291c040a5b...|   1|null|null|\n",
      "|74450de8dc654737b...|null|   1|null|\n",
      "|515d4d9094964a188...|null|   1|null|\n",
      "|c63d20f7b9f146da8...|   1|null|null|\n",
      "|dd1069bbc7ef423c9...|null|   1|null|\n",
      "|7d650753a27846f5a...|null|   1|null|\n",
      "+--------------------+----+----+----+\n",
      "only showing top 20 rows\n",
      "\n"
     ]
    }
   ],
   "source": [
    "profile.withColumn('drop_col',lit(1))\n",
    "profile_Gender=profile.groupBy('customer_id').pivot('gender').sum('drop_col')\n",
    "profile_Gender=profile_Gender.withColumnRenamed('customer_id', 'customer_id_gender')\n",
    "profile_Gender.show()"
   ]
  },
  {
   "cell_type": "code",
   "execution_count": 35,
   "id": "13584897",
   "metadata": {},
   "outputs": [
    {
     "data": {
      "text/plain": [
       "'distinct_values = list(profile.select(\"gender\")\\n                       .distinct()\\n                       .toPandas()[\"gender\"])\\n\\nfor distinct_value in distinct_values:\\n    function = udf(lambda item: \\n                   1 if item == distinct_value else 0, \\n                   IntegerType())\\n    new_column_name = \"gender\"+\\'_\\'+distinct_value\\n    profile = profile.withColumn(new_column_name, function(col(\"gender\")))\\n\\nprofile.show()'"
      ]
     },
     "execution_count": 35,
     "metadata": {},
     "output_type": "execute_result"
    }
   ],
   "source": [
    "'''distinct_values = list(profile.select(\"gender\")\n",
    "                       .distinct()\n",
    "                       .toPandas()[\"gender\"])\n",
    "\n",
    "for distinct_value in distinct_values:\n",
    "    function = udf(lambda item: \n",
    "                   1 if item == distinct_value else 0, \n",
    "                   IntegerType())\n",
    "    new_column_name = \"gender\"+'_'+distinct_value\n",
    "    profile = profile.withColumn(new_column_name, function(col(\"gender\")))\n",
    "\n",
    "profile.show()'''"
   ]
  },
  {
   "cell_type": "code",
   "execution_count": 36,
   "id": "6c721222",
   "metadata": {},
   "outputs": [
    {
     "name": "stdout",
     "output_type": "stream",
     "text": [
      "+---------------+------+\n",
      "|          event| count|\n",
      "+---------------+------+\n",
      "|    transaction|138953|\n",
      "| offer received| 76277|\n",
      "|offer completed| 33579|\n",
      "|   offer viewed| 57725|\n",
      "+---------------+------+\n",
      "\n"
     ]
    }
   ],
   "source": [
    "transcript.groupBy('event').count().show()"
   ]
  },
  {
   "cell_type": "markdown",
   "id": "7b184095",
   "metadata": {},
   "source": [
    "# cleaned profile"
   ]
  },
  {
   "cell_type": "code",
   "execution_count": 37,
   "id": "088b7972",
   "metadata": {},
   "outputs": [
    {
     "name": "stdout",
     "output_type": "stream",
     "text": [
      "+--------------------+---+---+---+---+---+---+---+---+---+---+---+---+---+---+---+---------+----------+----------+----------+---------+---------+---------+---------+---------+---------+----+----+----+----+----+----+------+-------+------+------+------+------+------+------+------+------+---+----------------+\n",
      "|  customer_id_gender|  F|  M|  O|  1|  2|  3|  4|  5|  6|  7|  8|  9| 10| 11| 12|income_30|income_100|income_110|income_120|income_40|income_50|income_60|income_70|income_80|income_90|2013|2014|2015|2016|2017|2018|age_10|age_100|age_20|age_30|age_40|age_50|age_60|age_70|age_80|age_90|age|became_member_on|\n",
      "+--------------------+---+---+---+---+---+---+---+---+---+---+---+---+---+---+---+---------+----------+----------+----------+---------+---------+---------+---------+---------+---------+----+----+----+----+----+----+------+-------+------+------+------+------+------+------+------+------+---+----------------+\n",
      "|b3d1075ec03c4c188...|  0|  1|  0|  0|  0|  0|  0|  0|  1|  0|  0|  0|  0|  0|  0|        0|         0|         0|         0|        0|        0|        0|        0|        1|        0|   0|   0|   0|   0|   1|   0|     0|      0|     0|     0|     0|     0|     1|     0|     0|     0| 54|      2017-06-07|\n",
      "|51db724d68504ec18...|  1|  0|  0|  0|  0|  0|  0|  0|  0|  1|  0|  0|  0|  0|  0|        0|         1|         0|         0|        0|        0|        0|        0|        0|        0|   0|   0|   0|   0|   0|   1|     1|      0|     0|     0|     0|     0|     0|     0|     0|     0| 60|      2018-07-22|\n",
      "|32a0f871e17c4cfdb...|  1|  0|  0|  1|  0|  0|  0|  0|  0|  0|  0|  0|  0|  0|  0|        0|         0|         0|         0|        0|        1|        0|        0|        0|        0|   0|   0|   0|   1|   0|   0|     0|      0|     0|     0|     0|     0|     0|     0|     1|     0| 77|      2016-01-01|\n",
      "|9da3f2339b244229a...|  1|  0|  0|  1|  0|  0|  0|  0|  0|  0|  0|  0|  0|  0|  0|        0|         0|         0|         0|        1|        0|        0|        0|        0|        0|   0|   0|   0|   0|   0|   1|     0|      0|     0|     0|     0|     1|     0|     0|     0|     0| 49|      2018-01-09|\n",
      "|f6c178ca2b1847d6b...|  0|  1|  0|  0|  0|  0|  0|  0|  1|  0|  0|  0|  0|  0|  0|        0|         1|         0|         0|        0|        0|        0|        0|        0|        0|   0|   0|   0|   0|   0|   1|     0|      0|     0|     0|     0|     0|     1|     0|     0|     0| 55|      2018-06-13|\n",
      "|8fecd95fe7b54cc2a...|  0|  1|  0|  0|  1|  0|  0|  0|  0|  0|  0|  0|  0|  0|  0|        0|         0|         0|         0|        0|        0|        0|        0|        0|        1|   0|   0|   0|   1|   0|   0|     0|      0|     0|     0|     0|     0|     1|     0|     0|     0| 53|      2016-02-10|\n",
      "|708d8271f758417e9...|  1|  0|  0|  0|  0|  0|  0|  0|  0|  0|  0|  0|  0|  1|  0|        0|         0|         0|         0|        0|        0|        1|        0|        0|        0|   0|   0|   1|   0|   0|   0|     0|      0|     0|     0|     0|     0|     1|     0|     0|     0| 53|      2015-11-21|\n",
      "|8bed51efb97049b58...|  0|  1|  0|  0|  0|  0|  0|  0|  0|  1|  0|  0|  0|  0|  0|        0|         0|         0|         0|        1|        0|        0|        0|        0|        0|   0|   0|   0|   0|   0|   1|     0|      0|     0|     1|     0|     0|     0|     0|     0|     0| 26|      2018-07-03|\n",
      "|5e0cac0673884c67b...|  1|  0|  0|  0|  0|  0|  0|  0|  0|  0|  0|  1|  0|  0|  0|        0|         0|         0|         0|        1|        0|        0|        0|        0|        0|   0|   0|   0|   0|   1|   0|     0|      0|     0|     0|     1|     0|     0|     0|     0|     0| 39|      2017-09-09|\n",
      "|30105215903d4eefb...|  1|  0|  0|  0|  1|  0|  0|  0|  0|  0|  0|  0|  0|  0|  0|        0|         0|         0|         0|        0|        0|        1|        0|        0|        0|   0|   0|   0|   0|   1|   0|     0|      0|     0|     0|     0|     0|     0|     0|     1|     0| 74|      2017-02-13|\n",
      "|74450de8dc654737b...|  0|  1|  0|  1|  0|  0|  0|  0|  0|  0|  0|  0|  0|  0|  0|        0|         0|         0|         0|        0|        0|        0|        1|        0|        0|   0|   0|   0|   0|   0|   1|     0|      0|     0|     0|     1|     0|     0|     0|     0|     0| 34|      2018-01-31|\n",
      "|e1e4b47968ef42509...|  0|  1|  0|  0|  0|  0|  0|  0|  0|  0|  0|  0|  0|  0|  1|        0|         0|         0|         0|        0|        0|        1|        0|        0|        0|   0|   0|   0|   1|   0|   0|     0|      0|     0|     0|     0|     1|     0|     0|     0|     0| 42|      2016-12-21|\n",
      "|7a5f837ad609476cb...|  1|  0|  0|  0|  0|  1|  0|  0|  0|  0|  0|  0|  0|  0|  0|        0|         0|         0|         0|        0|        0|        1|        0|        0|        0|   0|   0|   0|   0|   0|   1|     0|      0|     0|     1|     0|     0|     0|     0|     0|     0| 24|      2018-03-21|\n",
      "|7b68d6af297344258...|  1|  0|  0|  0|  0|  0|  0|  0|  0|  1|  0|  0|  0|  0|  0|        0|         0|         0|         0|        0|        0|        0|        0|        1|        0|   0|   0|   0|   0|   1|   0|     0|      0|     0|     0|     0|     0|     0|     1|     0|     0| 66|      2017-07-15|\n",
      "|0bcecfedf7e448b08...|  0|  1|  0|  0|  0|  0|  0|  0|  0|  0|  0|  0|  1|  0|  0|        0|         0|         0|         0|        0|        0|        1|        0|        0|        0|   1|   0|   0|   0|   0|   0|     1|      0|     0|     0|     0|     0|     0|     0|     0|     0| 70|      2013-10-24|\n",
      "|dfdd34f61d0645bca...|  0|  1|  0|  0|  0|  0|  0|  0|  0|  0|  0|  0|  1|  0|  0|        0|         0|         0|         0|        0|        0|        1|        0|        0|        0|   0|   0|   0|   0|   1|   0|     0|      0|     0|     0|     0|     0|     0|     0|     1|     0| 76|      2017-10-20|\n",
      "|5abe3df001c14294a...|  1|  0|  0|  0|  0|  0|  0|  0|  0|  0|  0|  1|  0|  0|  0|        0|         0|         0|         0|        0|        0|        1|        0|        0|        0|   0|   0|   1|   0|   0|   0|     0|      0|     0|     0|     0|     1|     0|     0|     0|     0| 48|      2015-09-05|\n",
      "|515d4d9094964a188...|  0|  1|  0|  0|  0|  0|  0|  0|  0|  0|  1|  0|  0|  0|  0|        0|         0|         0|         0|        0|        1|        0|        0|        0|        0|   0|   0|   0|   0|   1|   0|     1|      0|     0|     0|     0|     0|     0|     0|     0|     0| 31|      2017-08-11|\n",
      "|559943eeb754463e8...|  1|  0|  0|  0|  0|  0|  0|  0|  0|  0|  0|  1|  0|  0|  0|        0|         0|         0|         0|        0|        0|        0|        0|        0|        1|   0|   0|   0|   0|   1|   0|     1|      0|     0|     0|     0|     0|     0|     0|     0|     0| 50|      2017-09-11|\n",
      "|0e18338db35245648...|  0|  1|  0|  0|  0|  0|  1|  0|  0|  0|  0|  0|  0|  0|  0|        0|         0|         0|         0|        0|        0|        1|        0|        0|        0|   0|   0|   0|   1|   0|   0|     1|      0|     0|     0|     0|     0|     0|     0|     0|     0| 71|      2016-04-10|\n",
      "+--------------------+---+---+---+---+---+---+---+---+---+---+---+---+---+---+---+---------+----------+----------+----------+---------+---------+---------+---------+---------+---------+----+----+----+----+----+----+------+-------+------+------+------+------+------+------+------+------+---+----------------+\n",
      "only showing top 20 rows\n",
      "\n"
     ]
    }
   ],
   "source": [
    "profile_1=profile_Gender.join(profile_month,profile_Gender.customer_id_gender == profile_month.customer_id_month, \"inner\").drop('customer_id_month')\n",
    "profile_1=profile_1.join(profile_Income,profile_1.customer_id_gender == profile_Income.customer_id_inc, \"inner\").drop('customer_id_inc')\n",
    "profile_1=profile_1.join(profile_yr,profile_1.customer_id_gender == profile_yr.customer_id_yr, \"inner\").drop('customer_id_yr')\n",
    "profile_1=profile_1.join(profile_Age,profile_1.customer_id_gender == profile_Age.customer_id_age, \"inner\").drop('customer_id_age')\n",
    "profile_1=profile_1.join(Original_profile,profile_1.customer_id_gender == Original_profile.customer_id, \"inner\").drop('customer_id_age')\\\n",
    ".drop('gender','joining_month','joining_year','income','customer_id')\n",
    "profile_1=profile_1.na.fill(value=0)\n",
    "profile_1.show()\n",
    "#profile_1.count()"
   ]
  },
  {
   "cell_type": "code",
   "execution_count": 38,
   "id": "4fbf9e3e",
   "metadata": {},
   "outputs": [
    {
     "data": {
      "text/plain": [
       "14825"
      ]
     },
     "execution_count": 38,
     "metadata": {},
     "output_type": "execute_result"
    }
   ],
   "source": [
    "profile_1.count()"
   ]
  },
  {
   "cell_type": "markdown",
   "id": "d7ed5271",
   "metadata": {},
   "source": [
    "# PORTFOLIO DATASET"
   ]
  },
  {
   "cell_type": "code",
   "execution_count": null,
   "id": "5f850b1f",
   "metadata": {},
   "outputs": [],
   "source": []
  },
  {
   "cell_type": "code",
   "execution_count": 39,
   "id": "7f6778c8",
   "metadata": {},
   "outputs": [
    {
     "name": "stdout",
     "output_type": "stream",
     "text": [
      "+--------------------+----------+--------+--------------------+-------------+------+\n",
      "|            channels|difficulty|duration|            offer_id|   offer_type|reward|\n",
      "+--------------------+----------+--------+--------------------+-------------+------+\n",
      "|[email, mobile, s...|        10|     7.0|ae264e3637204a6fb...|         bogo|    10|\n",
      "|[web, email, mobi...|        10|     5.0|4d5c57ea9a6940dd8...|         bogo|    10|\n",
      "|[web, email, mobile]|         0|     4.0|3f207df678b143eea...|informational|     0|\n",
      "|[web, email, mobile]|         5|     7.0|9b98b8c7a33c4b65b...|         bogo|     5|\n",
      "|        [web, email]|        20|    10.0|0b1e1539f2cc45b7b...|     discount|     5|\n",
      "|[web, email, mobi...|         7|     7.0|2298d6c36e964ae4a...|     discount|     3|\n",
      "|[web, email, mobi...|        10|    10.0|fafdcd668e3743c1b...|     discount|     2|\n",
      "|[email, mobile, s...|         0|     3.0|5a8bc65990b245e5a...|informational|     0|\n",
      "|[web, email, mobi...|         5|     5.0|f19421c1d4aa40978...|         bogo|     5|\n",
      "|[web, email, mobile]|        10|     7.0|2906b810c7d441179...|     discount|     2|\n",
      "+--------------------+----------+--------+--------------------+-------------+------+\n",
      "\n"
     ]
    }
   ],
   "source": [
    "portfolio.show()"
   ]
  },
  {
   "cell_type": "code",
   "execution_count": 40,
   "id": "0713a30b",
   "metadata": {},
   "outputs": [
    {
     "name": "stdout",
     "output_type": "stream",
     "text": [
      "+--------------------+-------------+\n",
      "|           offer_id1|   offer_type|\n",
      "+--------------------+-------------+\n",
      "|ae264e3637204a6fb...|         bogo|\n",
      "|4d5c57ea9a6940dd8...|         bogo|\n",
      "|3f207df678b143eea...|informational|\n",
      "|9b98b8c7a33c4b65b...|         bogo|\n",
      "|0b1e1539f2cc45b7b...|     discount|\n",
      "|2298d6c36e964ae4a...|     discount|\n",
      "|fafdcd668e3743c1b...|     discount|\n",
      "|5a8bc65990b245e5a...|informational|\n",
      "|f19421c1d4aa40978...|         bogo|\n",
      "|2906b810c7d441179...|     discount|\n",
      "+--------------------+-------------+\n",
      "\n"
     ]
    }
   ],
   "source": [
    "portfolio11=portfolio.select('offer_id','offer_type')\n",
    "portfolio11=portfolio11.withColumnRenamed('offer_id', 'offer_id1')\n",
    "portfolio11.show()"
   ]
  },
  {
   "cell_type": "code",
   "execution_count": null,
   "id": "64367b12",
   "metadata": {},
   "outputs": [],
   "source": []
  },
  {
   "cell_type": "code",
   "execution_count": 41,
   "id": "489b1c3f",
   "metadata": {},
   "outputs": [
    {
     "name": "stdout",
     "output_type": "stream",
     "text": [
      "root\n",
      " |-- channels: array (nullable = true)\n",
      " |    |-- element: string (containsNull = true)\n",
      " |-- difficulty: long (nullable = true)\n",
      " |-- duration: double (nullable = true)\n",
      " |-- offer_id: string (nullable = true)\n",
      " |-- offer_type: string (nullable = true)\n",
      " |-- reward: long (nullable = true)\n",
      "\n"
     ]
    }
   ],
   "source": [
    "portfolio.printSchema()"
   ]
  },
  {
   "cell_type": "code",
   "execution_count": null,
   "id": "602a4ad1",
   "metadata": {},
   "outputs": [],
   "source": []
  },
  {
   "cell_type": "code",
   "execution_count": 42,
   "id": "f55b2953",
   "metadata": {},
   "outputs": [
    {
     "name": "stdout",
     "output_type": "stream",
     "text": [
      "+--------------------+----------+--------+--------------------+-------------+------+\n",
      "|            channels|difficulty|duration|            offer_id|   offer_type|reward|\n",
      "+--------------------+----------+--------+--------------------+-------------+------+\n",
      "|[email, mobile, s...|        10|     7.0|ae264e3637204a6fb...|         bogo|    10|\n",
      "|[web, email, mobi...|        10|     5.0|4d5c57ea9a6940dd8...|         bogo|    10|\n",
      "|[web, email, mobile]|         0|     4.0|3f207df678b143eea...|informational|     0|\n",
      "|[web, email, mobile]|         5|     7.0|9b98b8c7a33c4b65b...|         bogo|     5|\n",
      "|        [web, email]|        20|    10.0|0b1e1539f2cc45b7b...|     discount|     5|\n",
      "|[web, email, mobi...|         7|     7.0|2298d6c36e964ae4a...|     discount|     3|\n",
      "|[web, email, mobi...|        10|    10.0|fafdcd668e3743c1b...|     discount|     2|\n",
      "|[email, mobile, s...|         0|     3.0|5a8bc65990b245e5a...|informational|     0|\n",
      "|[web, email, mobi...|         5|     5.0|f19421c1d4aa40978...|         bogo|     5|\n",
      "|[web, email, mobile]|        10|     7.0|2906b810c7d441179...|     discount|     2|\n",
      "+--------------------+----------+--------+--------------------+-------------+------+\n",
      "\n"
     ]
    }
   ],
   "source": [
    "prrtfolio=portfolio.na.drop()\n",
    "prrtfolio.show()"
   ]
  },
  {
   "cell_type": "code",
   "execution_count": 43,
   "id": "ca94967a",
   "metadata": {},
   "outputs": [
    {
     "name": "stdout",
     "output_type": "stream",
     "text": [
      "+--------------------+--------------------+--------+----------+-------------+------+\n",
      "|            channels|            offer_id|duration|difficulty|   offer_type|reward|\n",
      "+--------------------+--------------------+--------+----------+-------------+------+\n",
      "|[email, mobile, s...|ae264e3637204a6fb...|   168.0|        10|         bogo|    10|\n",
      "|[email, mobile, s...|4d5c57ea9a6940dd8...|   120.0|        10|         bogo|    10|\n",
      "|[email, mobile, web]|3f207df678b143eea...|    96.0|         0|informational|     0|\n",
      "|[email, mobile, web]|9b98b8c7a33c4b65b...|   168.0|         5|         bogo|     5|\n",
      "|        [email, web]|0b1e1539f2cc45b7b...|   240.0|        20|     discount|     5|\n",
      "|[email, mobile, s...|2298d6c36e964ae4a...|   168.0|         7|     discount|     3|\n",
      "|[email, mobile, s...|fafdcd668e3743c1b...|   240.0|        10|     discount|     2|\n",
      "|[email, mobile, s...|5a8bc65990b245e5a...|    72.0|         0|informational|     0|\n",
      "|[email, mobile, s...|f19421c1d4aa40978...|   120.0|         5|         bogo|     5|\n",
      "|[email, mobile, web]|2906b810c7d441179...|   168.0|        10|     discount|     2|\n",
      "+--------------------+--------------------+--------+----------+-------------+------+\n",
      "\n"
     ]
    }
   ],
   "source": [
    "prrtfolio=prrtfolio.select(sort_array(\"channels\",asc=True),\"offer_id\",\"duration\",\"difficulty\",\"offer_type\",\"reward\").withColumn('duration',col('duration')*24)\n",
    "prrtfolio=prrtfolio.withColumnRenamed(\"sort_array(channels, true)\",\"channels\")\n",
    "prrtfolio.show()"
   ]
  },
  {
   "cell_type": "code",
   "execution_count": 44,
   "id": "08045da2",
   "metadata": {},
   "outputs": [
    {
     "name": "stdout",
     "output_type": "stream",
     "text": [
      "+--------------------+--------+----------+-------------+------+\n",
      "|            offer_id|duration|difficulty|   offer_type|reward|\n",
      "+--------------------+--------+----------+-------------+------+\n",
      "|ae264e3637204a6fb...|   168.0|        10|         bogo|    10|\n",
      "|4d5c57ea9a6940dd8...|   120.0|        10|         bogo|    10|\n",
      "|3f207df678b143eea...|    96.0|         0|informational|     0|\n",
      "|9b98b8c7a33c4b65b...|   168.0|         5|         bogo|     5|\n",
      "|0b1e1539f2cc45b7b...|   240.0|        20|     discount|     5|\n",
      "|2298d6c36e964ae4a...|   168.0|         7|     discount|     3|\n",
      "|fafdcd668e3743c1b...|   240.0|        10|     discount|     2|\n",
      "|5a8bc65990b245e5a...|    72.0|         0|informational|     0|\n",
      "|f19421c1d4aa40978...|   120.0|         5|         bogo|     5|\n",
      "|2906b810c7d441179...|   168.0|        10|     discount|     2|\n",
      "+--------------------+--------+----------+-------------+------+\n",
      "\n"
     ]
    }
   ],
   "source": [
    "portfolio_org=prrtfolio.drop('channels')\n",
    "portfolio_org.show()"
   ]
  },
  {
   "cell_type": "code",
   "execution_count": 45,
   "id": "adf0a64b",
   "metadata": {},
   "outputs": [
    {
     "name": "stdout",
     "output_type": "stream",
     "text": [
      "+--------+--------------------+--------+----------+-------------+------+--------+\n",
      "|channels|            offer_id|duration|difficulty|   offer_type|reward|drop_col|\n",
      "+--------+--------------------+--------+----------+-------------+------+--------+\n",
      "|   email|ae264e3637204a6fb...|   168.0|        10|         bogo|    10|       1|\n",
      "|  mobile|ae264e3637204a6fb...|   168.0|        10|         bogo|    10|       1|\n",
      "|  social|ae264e3637204a6fb...|   168.0|        10|         bogo|    10|       1|\n",
      "|   email|4d5c57ea9a6940dd8...|   120.0|        10|         bogo|    10|       1|\n",
      "|  mobile|4d5c57ea9a6940dd8...|   120.0|        10|         bogo|    10|       1|\n",
      "|  social|4d5c57ea9a6940dd8...|   120.0|        10|         bogo|    10|       1|\n",
      "|     web|4d5c57ea9a6940dd8...|   120.0|        10|         bogo|    10|       1|\n",
      "|   email|3f207df678b143eea...|    96.0|         0|informational|     0|       1|\n",
      "|  mobile|3f207df678b143eea...|    96.0|         0|informational|     0|       1|\n",
      "|     web|3f207df678b143eea...|    96.0|         0|informational|     0|       1|\n",
      "|   email|9b98b8c7a33c4b65b...|   168.0|         5|         bogo|     5|       1|\n",
      "|  mobile|9b98b8c7a33c4b65b...|   168.0|         5|         bogo|     5|       1|\n",
      "|     web|9b98b8c7a33c4b65b...|   168.0|         5|         bogo|     5|       1|\n",
      "|   email|0b1e1539f2cc45b7b...|   240.0|        20|     discount|     5|       1|\n",
      "|     web|0b1e1539f2cc45b7b...|   240.0|        20|     discount|     5|       1|\n",
      "|   email|2298d6c36e964ae4a...|   168.0|         7|     discount|     3|       1|\n",
      "|  mobile|2298d6c36e964ae4a...|   168.0|         7|     discount|     3|       1|\n",
      "|  social|2298d6c36e964ae4a...|   168.0|         7|     discount|     3|       1|\n",
      "|     web|2298d6c36e964ae4a...|   168.0|         7|     discount|     3|       1|\n",
      "|   email|fafdcd668e3743c1b...|   240.0|        10|     discount|     2|       1|\n",
      "+--------+--------------------+--------+----------+-------------+------+--------+\n",
      "only showing top 20 rows\n",
      "\n"
     ]
    }
   ],
   "source": [
    "prrtfolio=prrtfolio.withColumn('channels',explode(col('channels'))).withColumn('drop_col',lit(1))\n",
    "prrtfolio.show()"
   ]
  },
  {
   "cell_type": "code",
   "execution_count": 46,
   "id": "0c7474bd",
   "metadata": {},
   "outputs": [
    {
     "data": {
      "text/plain": [
       "33"
      ]
     },
     "execution_count": 46,
     "metadata": {},
     "output_type": "execute_result"
    }
   ],
   "source": [
    "prrtfolio.count()"
   ]
  },
  {
   "cell_type": "code",
   "execution_count": 47,
   "id": "89e5ac71",
   "metadata": {},
   "outputs": [
    {
     "name": "stdout",
     "output_type": "stream",
     "text": [
      "+--------------------+-----+------+------+----+\n",
      "|           offer_id1|email|mobile|social| web|\n",
      "+--------------------+-----+------+------+----+\n",
      "|0b1e1539f2cc45b7b...|    1|  null|  null|   1|\n",
      "|4d5c57ea9a6940dd8...|    1|     1|     1|   1|\n",
      "|9b98b8c7a33c4b65b...|    1|     1|  null|   1|\n",
      "|f19421c1d4aa40978...|    1|     1|     1|   1|\n",
      "|fafdcd668e3743c1b...|    1|     1|     1|   1|\n",
      "|ae264e3637204a6fb...|    1|     1|     1|null|\n",
      "|5a8bc65990b245e5a...|    1|     1|     1|null|\n",
      "|2298d6c36e964ae4a...|    1|     1|     1|   1|\n",
      "|2906b810c7d441179...|    1|     1|  null|   1|\n",
      "|3f207df678b143eea...|    1|     1|  null|   1|\n",
      "+--------------------+-----+------+------+----+\n",
      "\n"
     ]
    }
   ],
   "source": [
    "prrtfolio_Channel=prrtfolio.groupBy('offer_id').pivot('channels').sum('drop_col')\n",
    "prrtfolio_Channel=prrtfolio_Channel.withColumnRenamed('offer_id', 'offer_id1')\n",
    "prrtfolio_Channel.show()"
   ]
  },
  {
   "cell_type": "code",
   "execution_count": 48,
   "id": "f517fe0e",
   "metadata": {},
   "outputs": [
    {
     "data": {
      "text/plain": [
       "10"
      ]
     },
     "execution_count": 48,
     "metadata": {},
     "output_type": "execute_result"
    }
   ],
   "source": [
    "prrtfolio_Channel.count()"
   ]
  },
  {
   "cell_type": "code",
   "execution_count": 49,
   "id": "ef83c7af",
   "metadata": {
    "scrolled": false
   },
   "outputs": [
    {
     "name": "stdout",
     "output_type": "stream",
     "text": [
      "+--------------------+----+--------+-------------+\n",
      "|            offer_id|bogo|discount|informational|\n",
      "+--------------------+----+--------+-------------+\n",
      "|0b1e1539f2cc45b7b...|null|       2|         null|\n",
      "|4d5c57ea9a6940dd8...|   4|    null|         null|\n",
      "|9b98b8c7a33c4b65b...|   3|    null|         null|\n",
      "|f19421c1d4aa40978...|   4|    null|         null|\n",
      "|fafdcd668e3743c1b...|null|       4|         null|\n",
      "|ae264e3637204a6fb...|   3|    null|         null|\n",
      "|5a8bc65990b245e5a...|null|    null|            3|\n",
      "|2298d6c36e964ae4a...|null|       4|         null|\n",
      "|2906b810c7d441179...|null|       3|         null|\n",
      "|3f207df678b143eea...|null|    null|            3|\n",
      "+--------------------+----+--------+-------------+\n",
      "\n"
     ]
    }
   ],
   "source": [
    "#prrtfolio.withColumn('drop_col',lit(1))\n",
    "prrtfolio_offer_type=prrtfolio.groupBy('offer_id').pivot('offer_type').sum('drop_col')\n",
    "#prrtfolio_offer_type=prrtfolio_offer_type.withColumnRenamed(\"offer_id\",\"offer_id1\")\n",
    "prrtfolio_offer_type.show()"
   ]
  },
  {
   "cell_type": "code",
   "execution_count": 50,
   "id": "c5e8c3c8",
   "metadata": {},
   "outputs": [
    {
     "name": "stdout",
     "output_type": "stream",
     "text": [
      "+--------------------+----+--------+-------------+\n",
      "|            offer_id|bogo|discount|informational|\n",
      "+--------------------+----+--------+-------------+\n",
      "|0b1e1539f2cc45b7b...|   0|       2|            0|\n",
      "|4d5c57ea9a6940dd8...|   4|       0|            0|\n",
      "|9b98b8c7a33c4b65b...|   3|       0|            0|\n",
      "|f19421c1d4aa40978...|   4|       0|            0|\n",
      "|fafdcd668e3743c1b...|   0|       4|            0|\n",
      "|ae264e3637204a6fb...|   3|       0|            0|\n",
      "|5a8bc65990b245e5a...|   0|       0|            3|\n",
      "|2298d6c36e964ae4a...|   0|       4|            0|\n",
      "|2906b810c7d441179...|   0|       3|            0|\n",
      "|3f207df678b143eea...|   0|       0|            3|\n",
      "+--------------------+----+--------+-------------+\n",
      "\n"
     ]
    }
   ],
   "source": [
    "prrtfolio_offer_type.na.fill(value=0).show()"
   ]
  },
  {
   "cell_type": "code",
   "execution_count": 51,
   "id": "009d843d",
   "metadata": {},
   "outputs": [
    {
     "name": "stdout",
     "output_type": "stream",
     "text": [
      "+--------------------+----+--------+-------------+\n",
      "|            offer_id|bogo|discount|informational|\n",
      "+--------------------+----+--------+-------------+\n",
      "|0b1e1539f2cc45b7b...|null|       1|         null|\n",
      "|4d5c57ea9a6940dd8...|   1|    null|         null|\n",
      "|9b98b8c7a33c4b65b...|   1|    null|         null|\n",
      "|f19421c1d4aa40978...|   1|    null|         null|\n",
      "|fafdcd668e3743c1b...|null|       1|         null|\n",
      "|ae264e3637204a6fb...|   1|    null|         null|\n",
      "|5a8bc65990b245e5a...|null|    null|            1|\n",
      "|2298d6c36e964ae4a...|null|       1|         null|\n",
      "|2906b810c7d441179...|null|       1|         null|\n",
      "|3f207df678b143eea...|null|    null|            1|\n",
      "+--------------------+----+--------+-------------+\n",
      "\n"
     ]
    }
   ],
   "source": [
    "prrtfolio_offer_type = prrtfolio_offer_type.withColumn(\"bogo\", when(prrtfolio_offer_type.bogo > 0,lit(1)) \\\n",
    "      .otherwise(prrtfolio_offer_type.bogo))\\\n",
    "    .withColumn(\"discount\", when(prrtfolio_offer_type.discount > 0,lit(1)) \\\n",
    "      .otherwise(prrtfolio_offer_type.discount))\\\n",
    ".withColumn(\"informational\", when(prrtfolio_offer_type.informational > 0,lit(1)) \\\n",
    "      .otherwise(prrtfolio_offer_type.informational))\n",
    "prrtfolio_offer_type.show()"
   ]
  },
  {
   "cell_type": "code",
   "execution_count": 52,
   "id": "a59e7a13",
   "metadata": {},
   "outputs": [
    {
     "data": {
      "text/plain": [
       "10"
      ]
     },
     "execution_count": 52,
     "metadata": {},
     "output_type": "execute_result"
    }
   ],
   "source": [
    "prrtfolio_offer_type.count()"
   ]
  },
  {
   "cell_type": "code",
   "execution_count": 53,
   "id": "4b1730cb",
   "metadata": {},
   "outputs": [
    {
     "name": "stdout",
     "output_type": "stream",
     "text": [
      "+--------------------+--------------------+--------------------+----+--------+-------------+\n",
      "|        customer_id1|           offer_id1|            offer_id|bogo|discount|informational|\n",
      "+--------------------+--------------------+--------------------+----+--------+-------------+\n",
      "|78afa995795e4d85b...|9b98b8c7a33c4b65b...|9b98b8c7a33c4b65b...|   1|    null|         null|\n",
      "|a03223e636434f42a...|0b1e1539f2cc45b7b...|0b1e1539f2cc45b7b...|null|       1|         null|\n",
      "|e2127556f4f64592b...|2906b810c7d441179...|2906b810c7d441179...|null|       1|         null|\n",
      "|8ec6ce2a7e7949b1b...|fafdcd668e3743c1b...|fafdcd668e3743c1b...|null|       1|         null|\n",
      "|68617ca6246f4fbc8...|4d5c57ea9a6940dd8...|4d5c57ea9a6940dd8...|   1|    null|         null|\n",
      "|389bc3fa690240e79...|f19421c1d4aa40978...|f19421c1d4aa40978...|   1|    null|         null|\n",
      "|c4863c7985cf408fa...|2298d6c36e964ae4a...|2298d6c36e964ae4a...|null|       1|         null|\n",
      "|2eeac8d8feae4a8ca...|3f207df678b143eea...|3f207df678b143eea...|null|    null|            1|\n",
      "|aa4862eba776480b8...|0b1e1539f2cc45b7b...|0b1e1539f2cc45b7b...|null|       1|         null|\n",
      "|31dda685af34476ca...|0b1e1539f2cc45b7b...|0b1e1539f2cc45b7b...|null|       1|         null|\n",
      "|744d603ef08c4f33a...|0b1e1539f2cc45b7b...|0b1e1539f2cc45b7b...|null|       1|         null|\n",
      "|3d02345581554e81b...|0b1e1539f2cc45b7b...|0b1e1539f2cc45b7b...|null|       1|         null|\n",
      "|4b0da7e80e5945209...|ae264e3637204a6fb...|ae264e3637204a6fb...|   1|    null|         null|\n",
      "|c27e0d6ab72c455a8...|3f207df678b143eea...|3f207df678b143eea...|null|    null|            1|\n",
      "|d53717f5400c4e84a...|0b1e1539f2cc45b7b...|0b1e1539f2cc45b7b...|null|       1|         null|\n",
      "|f806632c011441378...|fafdcd668e3743c1b...|fafdcd668e3743c1b...|null|       1|         null|\n",
      "|d058f73bf8674a26a...|0b1e1539f2cc45b7b...|0b1e1539f2cc45b7b...|null|       1|         null|\n",
      "|65aba5c617294649a...|2906b810c7d441179...|2906b810c7d441179...|null|       1|         null|\n",
      "|ebe7ef46ea6f4963a...|9b98b8c7a33c4b65b...|9b98b8c7a33c4b65b...|   1|    null|         null|\n",
      "|1e9420836d554513a...|ae264e3637204a6fb...|ae264e3637204a6fb...|   1|    null|         null|\n",
      "+--------------------+--------------------+--------------------+----+--------+-------------+\n",
      "only showing top 20 rows\n",
      "\n"
     ]
    }
   ],
   "source": [
    "prrtfolioANDjoiningTable=joiningTable.join(prrtfolio_offer_type,\n",
    "               joiningTable.offer_id1 == prrtfolio_offer_type.offer_id, \n",
    "               \"left\")\n",
    "prrtfolioANDjoiningTable.show()"
   ]
  },
  {
   "cell_type": "code",
   "execution_count": 54,
   "id": "c1b612fc",
   "metadata": {},
   "outputs": [
    {
     "data": {
      "text/plain": [
       "306534"
      ]
     },
     "execution_count": 54,
     "metadata": {},
     "output_type": "execute_result"
    }
   ],
   "source": [
    "prrtfolioANDjoiningTable.count()"
   ]
  },
  {
   "cell_type": "code",
   "execution_count": 55,
   "id": "60542bf4",
   "metadata": {},
   "outputs": [
    {
     "name": "stdout",
     "output_type": "stream",
     "text": [
      "+--------------------+----+--------+-------------+\n",
      "|            offer_id|bogo|discount|informational|\n",
      "+--------------------+----+--------+-------------+\n",
      "|9b98b8c7a33c4b65b...|   1|    null|         null|\n",
      "|0b1e1539f2cc45b7b...|null|       1|         null|\n",
      "|2906b810c7d441179...|null|       1|         null|\n",
      "|fafdcd668e3743c1b...|null|       1|         null|\n",
      "|4d5c57ea9a6940dd8...|   1|    null|         null|\n",
      "|f19421c1d4aa40978...|   1|    null|         null|\n",
      "|2298d6c36e964ae4a...|null|       1|         null|\n",
      "|3f207df678b143eea...|null|    null|            1|\n",
      "|0b1e1539f2cc45b7b...|null|       1|         null|\n",
      "|0b1e1539f2cc45b7b...|null|       1|         null|\n",
      "|0b1e1539f2cc45b7b...|null|       1|         null|\n",
      "|0b1e1539f2cc45b7b...|null|       1|         null|\n",
      "|ae264e3637204a6fb...|   1|    null|         null|\n",
      "|3f207df678b143eea...|null|    null|            1|\n",
      "|0b1e1539f2cc45b7b...|null|       1|         null|\n",
      "|fafdcd668e3743c1b...|null|       1|         null|\n",
      "|0b1e1539f2cc45b7b...|null|       1|         null|\n",
      "|2906b810c7d441179...|null|       1|         null|\n",
      "|9b98b8c7a33c4b65b...|   1|    null|         null|\n",
      "|ae264e3637204a6fb...|   1|    null|         null|\n",
      "+--------------------+----+--------+-------------+\n",
      "only showing top 20 rows\n",
      "\n"
     ]
    }
   ],
   "source": [
    "prrtfolioANDjoiningTable=prrtfolioANDjoiningTable.drop(col('customer_id1'))\n",
    "prrtfolioANDjoiningTable=prrtfolioANDjoiningTable.drop(col('offer_id1'))\n",
    "prrtfolioANDjoiningTable.show()"
   ]
  },
  {
   "cell_type": "code",
   "execution_count": 56,
   "id": "9a542bed",
   "metadata": {},
   "outputs": [
    {
     "data": {
      "text/plain": [
       "'combinedDF22=prrtfolio_offer_type.join(prrtfolio_Channel,\\n               prrtfolio_offer_type.offer_id1 == prrtfolio_Channel.offer_id, \\n               \"left\")\\ncombinedDF22=combinedDF22.drop(col(\"offer_id\"))\\ncombinedDF22.show()'"
      ]
     },
     "execution_count": 56,
     "metadata": {},
     "output_type": "execute_result"
    }
   ],
   "source": [
    "'''combinedDF22=prrtfolio_offer_type.join(prrtfolio_Channel,\n",
    "               prrtfolio_offer_type.offer_id1 == prrtfolio_Channel.offer_id, \n",
    "               \"left\")\n",
    "combinedDF22=combinedDF22.drop(col(\"offer_id\"))\n",
    "combinedDF22.show()'''"
   ]
  },
  {
   "cell_type": "code",
   "execution_count": 57,
   "id": "0631932b",
   "metadata": {},
   "outputs": [
    {
     "data": {
      "text/plain": [
       "'combinedDF222=combinedDF22.join(transcript,\\n               combinedDF22.offer_id1 == transcript.offer_id, \\n               \"left\")\\ncombinedDF222.show()'"
      ]
     },
     "execution_count": 57,
     "metadata": {},
     "output_type": "execute_result"
    }
   ],
   "source": [
    "'''combinedDF222=combinedDF22.join(transcript,\n",
    "               combinedDF22.offer_id1 == transcript.offer_id, \n",
    "               \"left\")\n",
    "combinedDF222.show()'''"
   ]
  },
  {
   "cell_type": "code",
   "execution_count": 58,
   "id": "c979436e",
   "metadata": {},
   "outputs": [
    {
     "name": "stdout",
     "output_type": "stream",
     "text": [
      "+--------+--------------------+--------+----------+-------------+------+--------+\n",
      "|channels|            offer_id|duration|difficulty|   offer_type|reward|drop_col|\n",
      "+--------+--------------------+--------+----------+-------------+------+--------+\n",
      "|   email|ae264e3637204a6fb...|   168.0|        10|         bogo|    10|       1|\n",
      "|  mobile|ae264e3637204a6fb...|   168.0|        10|         bogo|    10|       1|\n",
      "|  social|ae264e3637204a6fb...|   168.0|        10|         bogo|    10|       1|\n",
      "|   email|4d5c57ea9a6940dd8...|   120.0|        10|         bogo|    10|       1|\n",
      "|  mobile|4d5c57ea9a6940dd8...|   120.0|        10|         bogo|    10|       1|\n",
      "|  social|4d5c57ea9a6940dd8...|   120.0|        10|         bogo|    10|       1|\n",
      "|     web|4d5c57ea9a6940dd8...|   120.0|        10|         bogo|    10|       1|\n",
      "|   email|3f207df678b143eea...|    96.0|         0|informational|     0|       1|\n",
      "|  mobile|3f207df678b143eea...|    96.0|         0|informational|     0|       1|\n",
      "|     web|3f207df678b143eea...|    96.0|         0|informational|     0|       1|\n",
      "|   email|9b98b8c7a33c4b65b...|   168.0|         5|         bogo|     5|       1|\n",
      "|  mobile|9b98b8c7a33c4b65b...|   168.0|         5|         bogo|     5|       1|\n",
      "|     web|9b98b8c7a33c4b65b...|   168.0|         5|         bogo|     5|       1|\n",
      "|   email|0b1e1539f2cc45b7b...|   240.0|        20|     discount|     5|       1|\n",
      "|     web|0b1e1539f2cc45b7b...|   240.0|        20|     discount|     5|       1|\n",
      "|   email|2298d6c36e964ae4a...|   168.0|         7|     discount|     3|       1|\n",
      "|  mobile|2298d6c36e964ae4a...|   168.0|         7|     discount|     3|       1|\n",
      "|  social|2298d6c36e964ae4a...|   168.0|         7|     discount|     3|       1|\n",
      "|     web|2298d6c36e964ae4a...|   168.0|         7|     discount|     3|       1|\n",
      "|   email|fafdcd668e3743c1b...|   240.0|        10|     discount|     2|       1|\n",
      "+--------+--------------------+--------+----------+-------------+------+--------+\n",
      "only showing top 20 rows\n",
      "\n"
     ]
    }
   ],
   "source": [
    "prrtfolio.show()"
   ]
  },
  {
   "cell_type": "code",
   "execution_count": 59,
   "id": "90d2cfeb",
   "metadata": {},
   "outputs": [
    {
     "name": "stdout",
     "output_type": "stream",
     "text": [
      "+--------+--------------------+--------+----------+-------------+------+--------+\n",
      "|channels|           offer_id1|duration|difficulty|   offer_type|reward|drop_col|\n",
      "+--------+--------------------+--------+----------+-------------+------+--------+\n",
      "|   email|ae264e3637204a6fb...|   168.0|        10|         bogo|    10|       1|\n",
      "|  mobile|ae264e3637204a6fb...|   168.0|        10|         bogo|    10|       1|\n",
      "|  social|ae264e3637204a6fb...|   168.0|        10|         bogo|    10|       1|\n",
      "|   email|4d5c57ea9a6940dd8...|   120.0|        10|         bogo|    10|       1|\n",
      "|  mobile|4d5c57ea9a6940dd8...|   120.0|        10|         bogo|    10|       1|\n",
      "|  social|4d5c57ea9a6940dd8...|   120.0|        10|         bogo|    10|       1|\n",
      "|     web|4d5c57ea9a6940dd8...|   120.0|        10|         bogo|    10|       1|\n",
      "|   email|3f207df678b143eea...|    96.0|         0|informational|     0|       1|\n",
      "|  mobile|3f207df678b143eea...|    96.0|         0|informational|     0|       1|\n",
      "|     web|3f207df678b143eea...|    96.0|         0|informational|     0|       1|\n",
      "|   email|9b98b8c7a33c4b65b...|   168.0|         5|         bogo|     5|       1|\n",
      "|  mobile|9b98b8c7a33c4b65b...|   168.0|         5|         bogo|     5|       1|\n",
      "|     web|9b98b8c7a33c4b65b...|   168.0|         5|         bogo|     5|       1|\n",
      "|   email|0b1e1539f2cc45b7b...|   240.0|        20|     discount|     5|       1|\n",
      "|     web|0b1e1539f2cc45b7b...|   240.0|        20|     discount|     5|       1|\n",
      "|   email|2298d6c36e964ae4a...|   168.0|         7|     discount|     3|       1|\n",
      "|  mobile|2298d6c36e964ae4a...|   168.0|         7|     discount|     3|       1|\n",
      "|  social|2298d6c36e964ae4a...|   168.0|         7|     discount|     3|       1|\n",
      "|     web|2298d6c36e964ae4a...|   168.0|         7|     discount|     3|       1|\n",
      "|   email|fafdcd668e3743c1b...|   240.0|        10|     discount|     2|       1|\n",
      "+--------+--------------------+--------+----------+-------------+------+--------+\n",
      "only showing top 20 rows\n",
      "\n"
     ]
    }
   ],
   "source": [
    "Original_portfolio=prrtfolio.withColumnRenamed(\"offer_id\",\"offer_id1\")\n",
    "Original_portfolio.show()"
   ]
  },
  {
   "cell_type": "markdown",
   "id": "b4c06d4c",
   "metadata": {},
   "source": [
    "# cleaned portfolio"
   ]
  },
  {
   "cell_type": "code",
   "execution_count": 60,
   "id": "a9685f64",
   "metadata": {},
   "outputs": [
    {
     "name": "stdout",
     "output_type": "stream",
     "text": [
      "+--------------------+----+--------+-------------+-----+------+------+---+--------+----------+\n",
      "|            offer_id|bogo|discount|informational|email|mobile|social|web|duration|difficulty|\n",
      "+--------------------+----+--------+-------------+-----+------+------+---+--------+----------+\n",
      "|0b1e1539f2cc45b7b...|   0|       1|            0|    1|     0|     0|  1|   240.0|        20|\n",
      "|4d5c57ea9a6940dd8...|   1|       0|            0|    1|     1|     1|  1|   120.0|        10|\n",
      "|9b98b8c7a33c4b65b...|   1|       0|            0|    1|     1|     0|  1|   168.0|         5|\n",
      "|f19421c1d4aa40978...|   1|       0|            0|    1|     1|     1|  1|   120.0|         5|\n",
      "|fafdcd668e3743c1b...|   0|       1|            0|    1|     1|     1|  1|   240.0|        10|\n",
      "|ae264e3637204a6fb...|   1|       0|            0|    1|     1|     1|  0|   168.0|        10|\n",
      "|5a8bc65990b245e5a...|   0|       0|            1|    1|     1|     1|  0|    72.0|         0|\n",
      "|2298d6c36e964ae4a...|   0|       1|            0|    1|     1|     1|  1|   168.0|         7|\n",
      "|2906b810c7d441179...|   0|       1|            0|    1|     1|     0|  1|   168.0|        10|\n",
      "|3f207df678b143eea...|   0|       0|            1|    1|     1|     0|  1|    96.0|         0|\n",
      "+--------------------+----+--------+-------------+-----+------+------+---+--------+----------+\n",
      "\n"
     ]
    }
   ],
   "source": [
    "portfolio_1=prrtfolio_offer_type.join(prrtfolio_Channel,prrtfolio_offer_type.offer_id == prrtfolio_Channel.offer_id1, \"inner\").drop('offer_id1')\n",
    "portfolio_1=portfolio_1.join(portfolio_org,[\"offer_id\"], \"inner\").drop('offer_type','channels','reward')\n",
    "portfolio_1=portfolio_1.na.fill(value=0)\n",
    "portfolio_1.show()"
   ]
  },
  {
   "cell_type": "code",
   "execution_count": 61,
   "id": "b2da89eb",
   "metadata": {},
   "outputs": [
    {
     "data": {
      "text/plain": [
       "10"
      ]
     },
     "execution_count": 61,
     "metadata": {},
     "output_type": "execute_result"
    }
   ],
   "source": [
    "portfolio_1.count()"
   ]
  },
  {
   "cell_type": "markdown",
   "id": "7ce31e4c",
   "metadata": {},
   "source": [
    "# TRANCSRIPT DATASET"
   ]
  },
  {
   "cell_type": "code",
   "execution_count": 62,
   "id": "380236aa",
   "metadata": {},
   "outputs": [
    {
     "name": "stdout",
     "output_type": "stream",
     "text": [
      "+--------------+--------------------+----+--------------------+------+------+\n",
      "|         event|         customer_id|time|            offer_id|amount|reward|\n",
      "+--------------+--------------------+----+--------------------+------+------+\n",
      "|offer received|78afa995795e4d85b...|   0|9b98b8c7a33c4b65b...|  null|  null|\n",
      "|offer received|a03223e636434f42a...|   0|0b1e1539f2cc45b7b...|  null|  null|\n",
      "|offer received|e2127556f4f64592b...|   0|2906b810c7d441179...|  null|  null|\n",
      "|offer received|8ec6ce2a7e7949b1b...|   0|fafdcd668e3743c1b...|  null|  null|\n",
      "|offer received|68617ca6246f4fbc8...|   0|4d5c57ea9a6940dd8...|  null|  null|\n",
      "|offer received|389bc3fa690240e79...|   0|f19421c1d4aa40978...|  null|  null|\n",
      "|offer received|c4863c7985cf408fa...|   0|2298d6c36e964ae4a...|  null|  null|\n",
      "|offer received|2eeac8d8feae4a8ca...|   0|3f207df678b143eea...|  null|  null|\n",
      "|offer received|aa4862eba776480b8...|   0|0b1e1539f2cc45b7b...|  null|  null|\n",
      "|offer received|31dda685af34476ca...|   0|0b1e1539f2cc45b7b...|  null|  null|\n",
      "|offer received|744d603ef08c4f33a...|   0|0b1e1539f2cc45b7b...|  null|  null|\n",
      "|offer received|3d02345581554e81b...|   0|0b1e1539f2cc45b7b...|  null|  null|\n",
      "|offer received|4b0da7e80e5945209...|   0|ae264e3637204a6fb...|  null|  null|\n",
      "|offer received|c27e0d6ab72c455a8...|   0|3f207df678b143eea...|  null|  null|\n",
      "|offer received|d53717f5400c4e84a...|   0|0b1e1539f2cc45b7b...|  null|  null|\n",
      "|offer received|f806632c011441378...|   0|fafdcd668e3743c1b...|  null|  null|\n",
      "|offer received|d058f73bf8674a26a...|   0|0b1e1539f2cc45b7b...|  null|  null|\n",
      "|offer received|65aba5c617294649a...|   0|2906b810c7d441179...|  null|  null|\n",
      "|offer received|ebe7ef46ea6f4963a...|   0|9b98b8c7a33c4b65b...|  null|  null|\n",
      "|offer received|1e9420836d554513a...|   0|ae264e3637204a6fb...|  null|  null|\n",
      "+--------------+--------------------+----+--------------------+------+------+\n",
      "only showing top 20 rows\n",
      "\n"
     ]
    }
   ],
   "source": [
    "transcript.show()"
   ]
  },
  {
   "cell_type": "code",
   "execution_count": 63,
   "id": "d2075835",
   "metadata": {},
   "outputs": [
    {
     "data": {
      "text/plain": [
       "306534"
      ]
     },
     "execution_count": 63,
     "metadata": {},
     "output_type": "execute_result"
    }
   ],
   "source": [
    "transcript.count()"
   ]
  },
  {
   "cell_type": "code",
   "execution_count": 64,
   "id": "1e5e1ddb",
   "metadata": {
    "scrolled": true
   },
   "outputs": [
    {
     "name": "stdout",
     "output_type": "stream",
     "text": [
      "root\n",
      " |-- event: string (nullable = true)\n",
      " |-- customer_id: string (nullable = true)\n",
      " |-- time: long (nullable = true)\n",
      " |-- offer_id: string (nullable = true)\n",
      " |-- amount: double (nullable = true)\n",
      " |-- reward: long (nullable = true)\n",
      "\n"
     ]
    }
   ],
   "source": [
    "transcript.printSchema()"
   ]
  },
  {
   "cell_type": "code",
   "execution_count": 65,
   "id": "d6cccaed",
   "metadata": {},
   "outputs": [
    {
     "name": "stdout",
     "output_type": "stream",
     "text": [
      "+--------------+--------------------+----+--------------------+------+------+\n",
      "|         event|         customer_id|time|            offer_id|amount|reward|\n",
      "+--------------+--------------------+----+--------------------+------+------+\n",
      "|offer received|78afa995795e4d85b...|   0|9b98b8c7a33c4b65b...|   0.0|     0|\n",
      "|offer received|a03223e636434f42a...|   0|0b1e1539f2cc45b7b...|   0.0|     0|\n",
      "|offer received|e2127556f4f64592b...|   0|2906b810c7d441179...|   0.0|     0|\n",
      "|offer received|8ec6ce2a7e7949b1b...|   0|fafdcd668e3743c1b...|   0.0|     0|\n",
      "|offer received|68617ca6246f4fbc8...|   0|4d5c57ea9a6940dd8...|   0.0|     0|\n",
      "|offer received|389bc3fa690240e79...|   0|f19421c1d4aa40978...|   0.0|     0|\n",
      "|offer received|c4863c7985cf408fa...|   0|2298d6c36e964ae4a...|   0.0|     0|\n",
      "|offer received|2eeac8d8feae4a8ca...|   0|3f207df678b143eea...|   0.0|     0|\n",
      "|offer received|aa4862eba776480b8...|   0|0b1e1539f2cc45b7b...|   0.0|     0|\n",
      "|offer received|31dda685af34476ca...|   0|0b1e1539f2cc45b7b...|   0.0|     0|\n",
      "|offer received|744d603ef08c4f33a...|   0|0b1e1539f2cc45b7b...|   0.0|     0|\n",
      "|offer received|3d02345581554e81b...|   0|0b1e1539f2cc45b7b...|   0.0|     0|\n",
      "|offer received|4b0da7e80e5945209...|   0|ae264e3637204a6fb...|   0.0|     0|\n",
      "|offer received|c27e0d6ab72c455a8...|   0|3f207df678b143eea...|   0.0|     0|\n",
      "|offer received|d53717f5400c4e84a...|   0|0b1e1539f2cc45b7b...|   0.0|     0|\n",
      "|offer received|f806632c011441378...|   0|fafdcd668e3743c1b...|   0.0|     0|\n",
      "|offer received|d058f73bf8674a26a...|   0|0b1e1539f2cc45b7b...|   0.0|     0|\n",
      "|offer received|65aba5c617294649a...|   0|2906b810c7d441179...|   0.0|     0|\n",
      "|offer received|ebe7ef46ea6f4963a...|   0|9b98b8c7a33c4b65b...|   0.0|     0|\n",
      "|offer received|1e9420836d554513a...|   0|ae264e3637204a6fb...|   0.0|     0|\n",
      "+--------------+--------------------+----+--------------------+------+------+\n",
      "only showing top 20 rows\n",
      "\n"
     ]
    }
   ],
   "source": [
    "#actual_transcript=transcript.withColumnRenamed(\"customer_id\",\"customer_id1\")\n",
    "actual_transcript=transcript.withColumnRenamed(\"offer id\",\"offer_id\")\n",
    "actual_transcript=actual_transcript.na.fill(value=0)\n",
    "actual_transcript.show()"
   ]
  },
  {
   "cell_type": "code",
   "execution_count": 66,
   "id": "da70e6af",
   "metadata": {},
   "outputs": [
    {
     "data": {
      "text/plain": [
       "17000"
      ]
     },
     "execution_count": 66,
     "metadata": {},
     "output_type": "execute_result"
    }
   ],
   "source": [
    "a=transcript.groupBy('customer_id').count()\n",
    "a.count()"
   ]
  },
  {
   "cell_type": "code",
   "execution_count": 67,
   "id": "8be1dbb6",
   "metadata": {},
   "outputs": [
    {
     "data": {
      "text/plain": [
       "306534"
      ]
     },
     "execution_count": 67,
     "metadata": {},
     "output_type": "execute_result"
    }
   ],
   "source": [
    "transcript.count()"
   ]
  },
  {
   "cell_type": "code",
   "execution_count": 68,
   "id": "b073bed2",
   "metadata": {},
   "outputs": [
    {
     "name": "stdout",
     "output_type": "stream",
     "text": [
      "+---------------+------+\n",
      "|          event| count|\n",
      "+---------------+------+\n",
      "|    transaction|138953|\n",
      "| offer received| 76277|\n",
      "|offer completed| 33579|\n",
      "|   offer viewed| 57725|\n",
      "+---------------+------+\n",
      "\n"
     ]
    }
   ],
   "source": [
    "transcript.groupBy('event').count().show()"
   ]
  },
  {
   "cell_type": "code",
   "execution_count": null,
   "id": "0231eddb",
   "metadata": {},
   "outputs": [],
   "source": []
  },
  {
   "cell_type": "code",
   "execution_count": 69,
   "id": "84d45428",
   "metadata": {},
   "outputs": [
    {
     "name": "stdout",
     "output_type": "stream",
     "text": [
      "+-----+-----------+----+--------+------+------+\n",
      "|event|customer_id|time|offer_id|amount|reward|\n",
      "+-----+-----------+----+--------+------+------+\n",
      "|    0|          0|   0|       0|     0|     0|\n",
      "+-----+-----------+----+--------+------+------+\n",
      "\n"
     ]
    }
   ],
   "source": [
    "transcript.select([count(when(isnan(c), c)).alias(c) for c in transcript.columns]).show()"
   ]
  },
  {
   "cell_type": "code",
   "execution_count": 70,
   "id": "7ee6f311",
   "metadata": {},
   "outputs": [],
   "source": [
    "transcript=transcript.drop(col(\"reward\"))"
   ]
  },
  {
   "cell_type": "code",
   "execution_count": 71,
   "id": "6a17b8a6",
   "metadata": {},
   "outputs": [
    {
     "name": "stdout",
     "output_type": "stream",
     "text": [
      "+---------------+------+\n",
      "|          event| count|\n",
      "+---------------+------+\n",
      "|    transaction|138953|\n",
      "| offer received| 76277|\n",
      "|offer completed| 33579|\n",
      "|   offer viewed| 57725|\n",
      "+---------------+------+\n",
      "\n"
     ]
    }
   ],
   "source": [
    "transcript.groupBy('event').count().show()"
   ]
  },
  {
   "cell_type": "code",
   "execution_count": 72,
   "id": "b4fe6d7f",
   "metadata": {},
   "outputs": [
    {
     "name": "stdout",
     "output_type": "stream",
     "text": [
      "+--------------------+---------------+--------------+------------+-----------+\n",
      "|        customer_id1|offer completed|offer received|offer viewed|transaction|\n",
      "+--------------------+---------------+--------------+------------+-----------+\n",
      "|5e0cac0673884c67b...|              0|             4|           2|          8|\n",
      "|d3c24fa42d0947a4b...|              3|             4|           2|         15|\n",
      "|b3d1075ec03c4c188...|              4|             4|           4|          5|\n",
      "|5abe3df001c14294a...|              4|             5|           5|         10|\n",
      "|f6c178ca2b1847d6b...|              5|             5|           5|          6|\n",
      "|f608dc84f5f744a88...|              3|             5|           3|          4|\n",
      "|e1e4b47968ef42509...|              2|             4|           3|          5|\n",
      "|3625554b70d8411bb...|              3|             4|           4|          9|\n",
      "|7b68d6af297344258...|              2|             3|           3|         10|\n",
      "|32a0f871e17c4cfdb...|              3|             4|           4|         19|\n",
      "|72c8dfba6eb44158a...|              3|             4|           3|          8|\n",
      "|daeccc82b26348ddb...|              0|             6|           4|          7|\n",
      "|d7fec020017649a7a...|              4|             6|           4|          6|\n",
      "|c05652fa9d2c4fac9...|              1|             6|           4|          7|\n",
      "|f1a97a4aabba4015b...|              1|             5|           4|          5|\n",
      "|ea1ecddf4814464cb...|              5|             5|           5|         11|\n",
      "|dfdd34f61d0645bca...|              3|             4|           4|          2|\n",
      "|8ca462f1192b4aa29...|              0|             4|           3|         13|\n",
      "|dd1069bbc7ef423c9...|              1|             6|           5|         19|\n",
      "|8bed51efb97049b58...|              0|             4|           1|          3|\n",
      "+--------------------+---------------+--------------+------------+-----------+\n",
      "only showing top 20 rows\n",
      "\n"
     ]
    }
   ],
   "source": [
    "transcript_0=transcript.withColumnRenamed(\"customer_id\",\"customer_id1\").withColumn('drop_col',lit(1))\n",
    "transcript_event=transcript_0.groupBy('customer_id1').pivot('event').sum('drop_col')\n",
    "transcript_event=transcript_event.na.fill(value=0)\n",
    "#transcript_event=transcript_event.na.drop()\n",
    "transcript_event.show()"
   ]
  },
  {
   "cell_type": "code",
   "execution_count": 73,
   "id": "3735171f",
   "metadata": {},
   "outputs": [
    {
     "data": {
      "text/plain": [
       "17000"
      ]
     },
     "execution_count": 73,
     "metadata": {},
     "output_type": "execute_result"
    }
   ],
   "source": [
    "transcript_event.count()"
   ]
  },
  {
   "cell_type": "code",
   "execution_count": null,
   "id": "7fabc06b",
   "metadata": {},
   "outputs": [],
   "source": []
  },
  {
   "cell_type": "code",
   "execution_count": 74,
   "id": "79fabb88",
   "metadata": {},
   "outputs": [],
   "source": [
    "transcript_event=transcript_event.withColumnRenamed(\"offer completed\",\"offer_completed\")\\\n",
    ".withColumnRenamed(\"offer received\",\"offer_received\")\\\n",
    ".withColumnRenamed(\"offer viewed\",\"offer_viewed\")"
   ]
  },
  {
   "cell_type": "code",
   "execution_count": 75,
   "id": "c611f893",
   "metadata": {},
   "outputs": [
    {
     "name": "stdout",
     "output_type": "stream",
     "text": [
      "+--------------------+---------------+--------------+------------+-----------+\n",
      "|        customer_id1|offer_completed|offer_received|offer_viewed|transaction|\n",
      "+--------------------+---------------+--------------+------------+-----------+\n",
      "|5e0cac0673884c67b...|              0|             1|           1|          1|\n",
      "|d3c24fa42d0947a4b...|              1|             1|           1|          1|\n",
      "|b3d1075ec03c4c188...|              1|             1|           1|          1|\n",
      "|5abe3df001c14294a...|              1|             1|           1|          1|\n",
      "|f6c178ca2b1847d6b...|              1|             1|           1|          1|\n",
      "|f608dc84f5f744a88...|              1|             1|           1|          1|\n",
      "|e1e4b47968ef42509...|              1|             1|           1|          1|\n",
      "|3625554b70d8411bb...|              1|             1|           1|          1|\n",
      "|7b68d6af297344258...|              1|             1|           1|          1|\n",
      "|32a0f871e17c4cfdb...|              1|             1|           1|          1|\n",
      "|72c8dfba6eb44158a...|              1|             1|           1|          1|\n",
      "|daeccc82b26348ddb...|              0|             1|           1|          1|\n",
      "|d7fec020017649a7a...|              1|             1|           1|          1|\n",
      "|c05652fa9d2c4fac9...|              1|             1|           1|          1|\n",
      "|f1a97a4aabba4015b...|              1|             1|           1|          1|\n",
      "|ea1ecddf4814464cb...|              1|             1|           1|          1|\n",
      "|dfdd34f61d0645bca...|              1|             1|           1|          1|\n",
      "|8ca462f1192b4aa29...|              0|             1|           1|          1|\n",
      "|dd1069bbc7ef423c9...|              1|             1|           1|          1|\n",
      "|8bed51efb97049b58...|              0|             1|           1|          1|\n",
      "+--------------------+---------------+--------------+------------+-----------+\n",
      "only showing top 20 rows\n",
      "\n"
     ]
    }
   ],
   "source": [
    "transcript_event = transcript_event.withColumn(\"offer_completed\", when(transcript_event.offer_completed > 0,lit(1)) \\\n",
    "      .otherwise(transcript_event.offer_completed))\\\n",
    "         .withColumn(\"offer_received\", when(transcript_event.offer_received > 0,lit(1)) \\\n",
    "      .otherwise(transcript_event.offer_received))\\\n",
    ".withColumn(\"offer_viewed\", when(transcript_event.offer_viewed > 0,lit(1)) \\\n",
    "      .otherwise(transcript_event.offer_viewed))\\\n",
    ".withColumn(\"transaction\", when(transcript_event.transaction > 0,lit(1)) \\\n",
    "      .otherwise(transcript_event.transaction))\n",
    "#transcript_event=transcript_event.withColumnRenamed(\"offer_id\",\"offer_id1\") \n",
    "transcript_event.show()"
   ]
  },
  {
   "cell_type": "code",
   "execution_count": 76,
   "id": "43feac93",
   "metadata": {},
   "outputs": [
    {
     "data": {
      "text/plain": [
       "17000"
      ]
     },
     "execution_count": 76,
     "metadata": {},
     "output_type": "execute_result"
    }
   ],
   "source": [
    "transcript_event.count()"
   ]
  },
  {
   "cell_type": "markdown",
   "id": "e0a29d35",
   "metadata": {},
   "source": [
    "# cleaned transcript"
   ]
  },
  {
   "cell_type": "code",
   "execution_count": null,
   "id": "7300e3ee",
   "metadata": {},
   "outputs": [],
   "source": []
  },
  {
   "cell_type": "code",
   "execution_count": 77,
   "id": "1a13bc42",
   "metadata": {},
   "outputs": [
    {
     "name": "stdout",
     "output_type": "stream",
     "text": [
      "+---------------+--------------+------------+-----------+--------------+--------------------+----+--------------------+------+------+\n",
      "|offer_completed|offer_received|offer_viewed|transaction|         event|         customer_id|time|            offer_id|amount|reward|\n",
      "+---------------+--------------+------------+-----------+--------------+--------------------+----+--------------------+------+------+\n",
      "|              1|             1|           1|          1|offer received|c05652fa9d2c4fac9...|   0|9b98b8c7a33c4b65b...|   0.0|     0|\n",
      "|              1|             1|           1|          1|offer received|9da3f2339b244229a...|   0|4d5c57ea9a6940dd8...|   0.0|     0|\n",
      "|              0|             1|           1|          1|offer received|fc58860830e648c9b...|   0|9b98b8c7a33c4b65b...|   0.0|     0|\n",
      "|              1|             1|           1|          1|offer received|f608dc84f5f744a88...|   0|9b98b8c7a33c4b65b...|   0.0|     0|\n",
      "|              1|             1|           1|          1|offer received|25540a042d7d4aabb...|   0|2298d6c36e964ae4a...|   0.0|     0|\n",
      "|              1|             1|           1|          1|offer received|f3acf14291c040a5b...|   0|ae264e3637204a6fb...|   0.0|     0|\n",
      "|              0|             1|           1|          1|offer received|c029ebbd5e584674b...|   0|0b1e1539f2cc45b7b...|   0.0|     0|\n",
      "|              1|             1|           1|          1|offer received|05ea8d8a95eb4b209...|   0|f19421c1d4aa40978...|   0.0|     0|\n",
      "|              0|             1|           1|          1|offer received|5dca7efd64aa40e9a...|   0|f19421c1d4aa40978...|   0.0|     0|\n",
      "|              1|             1|           1|          1|offer received|559943eeb754463e8...|   0|0b1e1539f2cc45b7b...|   0.0|     0|\n",
      "|              1|             1|           1|          1|offer received|016871ea865d43389...|   0|2906b810c7d441179...|   0.0|     0|\n",
      "|              1|             1|           1|          1|offer received|f1a97a4aabba4015b...|   0|f19421c1d4aa40978...|   0.0|     0|\n",
      "|              1|             1|           1|          1|offer received|d7fec020017649a7a...|   0|9b98b8c7a33c4b65b...|   0.0|     0|\n",
      "|              0|             1|           1|          1|offer received|8ca462f1192b4aa29...|   0|9b98b8c7a33c4b65b...|   0.0|     0|\n",
      "|              1|             1|           1|          1|offer received|b3d1075ec03c4c188...|   0|f19421c1d4aa40978...|   0.0|     0|\n",
      "|              1|             1|           1|          1|offer received|f83716ec38f44f038...|   0|2906b810c7d441179...|   0.0|     0|\n",
      "|              1|             1|           1|          1|offer received|738943cdecfd45348...|   0|3f207df678b143eea...|   0.0|     0|\n",
      "|              1|             1|           1|          1|offer received|dfdd34f61d0645bca...|   0|fafdcd668e3743c1b...|   0.0|     0|\n",
      "|              1|             1|           1|          1|offer received|6be0513109fe4d738...|   0|4d5c57ea9a6940dd8...|   0.0|     0|\n",
      "|              1|             1|           1|          1|offer received|ab25fd6fbd5040f88...|   0|2298d6c36e964ae4a...|   0.0|     0|\n",
      "+---------------+--------------+------------+-----------+--------------+--------------------+----+--------------------+------+------+\n",
      "only showing top 20 rows\n",
      "\n"
     ]
    }
   ],
   "source": [
    "transcript_1=transcript_event.join(actual_transcript,transcript_event.customer_id1 == actual_transcript.customer_id, \"inner\")\\\n",
    ".drop('customer_id1')\n",
    "transcript_1=transcript_1.na.fill(value=0)\n",
    "transcript_1.show()"
   ]
  },
  {
   "cell_type": "code",
   "execution_count": 78,
   "id": "cf3f9c5d",
   "metadata": {},
   "outputs": [
    {
     "data": {
      "text/plain": [
       "306534"
      ]
     },
     "execution_count": 78,
     "metadata": {},
     "output_type": "execute_result"
    }
   ],
   "source": [
    "transcript_1.count()"
   ]
  },
  {
   "cell_type": "markdown",
   "id": "3f7ccc2d",
   "metadata": {},
   "source": [
    "# COMBINED DATASET"
   ]
  },
  {
   "cell_type": "code",
   "execution_count": 79,
   "id": "9a64f96c",
   "metadata": {},
   "outputs": [],
   "source": [
    "actual_transcript=actual_transcript.withColumnRenamed(\"customer_id\",\"customer_id_tr\")  "
   ]
  },
  {
   "cell_type": "code",
   "execution_count": 80,
   "id": "99562ed6",
   "metadata": {},
   "outputs": [
    {
     "data": {
      "text/plain": [
       "33"
      ]
     },
     "execution_count": 80,
     "metadata": {},
     "output_type": "execute_result"
    }
   ],
   "source": [
    "#actual_transcript.count()\n",
    "#Original_profile.count()\n",
    "Original_portfolio.count()"
   ]
  },
  {
   "cell_type": "code",
   "execution_count": 81,
   "id": "cc1b67a4",
   "metadata": {},
   "outputs": [
    {
     "name": "stdout",
     "output_type": "stream",
     "text": [
      "+--------------+----+--------------------+------+------+---+----------------+------+--------------------+------+-------------+------------+--------+--------+----------+-------------+------+--------+\n",
      "|         event|time|            offer_id|amount|reward|age|became_member_on|gender|         customer_id|income|joining_month|joining_year|channels|duration|difficulty|   offer_type|reward|drop_col|\n",
      "+--------------+----+--------------------+------+------+---+----------------+------+--------------------+------+-------------+------------+--------+--------+----------+-------------+------+--------+\n",
      "|offer received|   0|9b98b8c7a33c4b65b...|   0.0|     0| 75|      2017-05-09|     F|78afa995795e4d85b...|100000|            5|        2017|     web|   168.0|         5|         bogo|     5|       1|\n",
      "|offer received|   0|9b98b8c7a33c4b65b...|   0.0|     0| 75|      2017-05-09|     F|78afa995795e4d85b...|100000|            5|        2017|  mobile|   168.0|         5|         bogo|     5|       1|\n",
      "|offer received|   0|9b98b8c7a33c4b65b...|   0.0|     0| 75|      2017-05-09|     F|78afa995795e4d85b...|100000|            5|        2017|   email|   168.0|         5|         bogo|     5|       1|\n",
      "|offer received|   0|2906b810c7d441179...|   0.0|     0| 68|      2018-04-26|     M|e2127556f4f64592b...| 70000|            4|        2018|     web|   168.0|        10|     discount|     2|       1|\n",
      "|offer received|   0|2906b810c7d441179...|   0.0|     0| 68|      2018-04-26|     M|e2127556f4f64592b...| 70000|            4|        2018|  mobile|   168.0|        10|     discount|     2|       1|\n",
      "|offer received|   0|2906b810c7d441179...|   0.0|     0| 68|      2018-04-26|     M|e2127556f4f64592b...| 70000|            4|        2018|   email|   168.0|        10|     discount|     2|       1|\n",
      "|offer received|   0|f19421c1d4aa40978...|   0.0|     0| 65|      2018-02-09|     M|389bc3fa690240e79...| 53000|            2|        2018|     web|   120.0|         5|         bogo|     5|       1|\n",
      "|offer received|   0|f19421c1d4aa40978...|   0.0|     0| 65|      2018-02-09|     M|389bc3fa690240e79...| 53000|            2|        2018|  social|   120.0|         5|         bogo|     5|       1|\n",
      "|offer received|   0|f19421c1d4aa40978...|   0.0|     0| 65|      2018-02-09|     M|389bc3fa690240e79...| 53000|            2|        2018|  mobile|   120.0|         5|         bogo|     5|       1|\n",
      "|offer received|   0|f19421c1d4aa40978...|   0.0|     0| 65|      2018-02-09|     M|389bc3fa690240e79...| 53000|            2|        2018|   email|   120.0|         5|         bogo|     5|       1|\n",
      "|offer received|   0|3f207df678b143eea...|   0.0|     0| 58|      2017-11-11|     M|2eeac8d8feae4a8ca...| 51000|           11|        2017|     web|    96.0|         0|informational|     0|       1|\n",
      "|offer received|   0|3f207df678b143eea...|   0.0|     0| 58|      2017-11-11|     M|2eeac8d8feae4a8ca...| 51000|           11|        2017|  mobile|    96.0|         0|informational|     0|       1|\n",
      "|offer received|   0|3f207df678b143eea...|   0.0|     0| 58|      2017-11-11|     M|2eeac8d8feae4a8ca...| 51000|           11|        2017|   email|    96.0|         0|informational|     0|       1|\n",
      "|offer received|   0|0b1e1539f2cc45b7b...|   0.0|     0| 61|      2017-09-11|     F|aa4862eba776480b8...| 57000|            9|        2017|     web|   240.0|        20|     discount|     5|       1|\n",
      "|offer received|   0|0b1e1539f2cc45b7b...|   0.0|     0| 61|      2017-09-11|     F|aa4862eba776480b8...| 57000|            9|        2017|   email|   240.0|        20|     discount|     5|       1|\n",
      "|offer received|   0|0b1e1539f2cc45b7b...|   0.0|     0| 62|      2016-02-11|     F|31dda685af34476ca...| 71000|            2|        2016|     web|   240.0|        20|     discount|     5|       1|\n",
      "|offer received|   0|0b1e1539f2cc45b7b...|   0.0|     0| 62|      2016-02-11|     F|31dda685af34476ca...| 71000|            2|        2016|   email|   240.0|        20|     discount|     5|       1|\n",
      "|offer received|   0|ae264e3637204a6fb...|   0.0|     0| 64|      2017-09-09|     M|4b0da7e80e5945209...|100000|            9|        2017|  social|   168.0|        10|         bogo|    10|       1|\n",
      "|offer received|   0|ae264e3637204a6fb...|   0.0|     0| 64|      2017-09-09|     M|4b0da7e80e5945209...|100000|            9|        2017|  mobile|   168.0|        10|         bogo|    10|       1|\n",
      "|offer received|   0|ae264e3637204a6fb...|   0.0|     0| 64|      2017-09-09|     M|4b0da7e80e5945209...|100000|            9|        2017|   email|   168.0|        10|         bogo|    10|       1|\n",
      "+--------------+----+--------------------+------+------+---+----------------+------+--------------------+------+-------------+------------+--------+--------+----------+-------------+------+--------+\n",
      "only showing top 20 rows\n",
      "\n"
     ]
    }
   ],
   "source": [
    "combined_data=actual_transcript.join(Original_profile,Original_profile.customer_id == actual_transcript.customer_id_tr, \"inner\")\\\n",
    ".drop('customer_id_tr')\n",
    "combined_data=combined_data.join(Original_portfolio,combined_data.offer_id == Original_portfolio.offer_id1, \"inner\")\\\n",
    ".drop('offer_id1','index_column')\n",
    "combined_data=combined_data.na.fill(value=0)\n",
    "combined_data.show()"
   ]
  },
  {
   "cell_type": "code",
   "execution_count": 82,
   "id": "e5ee057b",
   "metadata": {},
   "outputs": [
    {
     "data": {
      "text/plain": [
       "392043"
      ]
     },
     "execution_count": 82,
     "metadata": {},
     "output_type": "execute_result"
    }
   ],
   "source": [
    "combined_data.count()"
   ]
  },
  {
   "cell_type": "markdown",
   "id": "07082a3c",
   "metadata": {},
   "source": [
    "# PROCESSING"
   ]
  },
  {
   "cell_type": "code",
   "execution_count": null,
   "id": "1f3d4cd7",
   "metadata": {},
   "outputs": [],
   "source": []
  },
  {
   "cell_type": "code",
   "execution_count": 83,
   "id": "77df2fda",
   "metadata": {},
   "outputs": [
    {
     "name": "stdout",
     "output_type": "stream",
     "text": [
      "+--------------------+----+--------+-------------+\n",
      "|           offer_id1|bogo|discount|informational|\n",
      "+--------------------+----+--------+-------------+\n",
      "|0b1e1539f2cc45b7b...|null|       1|         null|\n",
      "|4d5c57ea9a6940dd8...|   1|    null|         null|\n",
      "|9b98b8c7a33c4b65b...|   1|    null|         null|\n",
      "|f19421c1d4aa40978...|   1|    null|         null|\n",
      "|fafdcd668e3743c1b...|null|       1|         null|\n",
      "|ae264e3637204a6fb...|   1|    null|         null|\n",
      "|5a8bc65990b245e5a...|null|    null|            1|\n",
      "|2298d6c36e964ae4a...|null|       1|         null|\n",
      "|2906b810c7d441179...|null|       1|         null|\n",
      "|3f207df678b143eea...|null|    null|            1|\n",
      "+--------------------+----+--------+-------------+\n",
      "\n"
     ]
    }
   ],
   "source": [
    "prrtfolio_offer_type=prrtfolio_offer_type.withColumnRenamed('offer_id', 'offer_id1')\n",
    "prrtfolio_offer_type.show()"
   ]
  },
  {
   "cell_type": "code",
   "execution_count": 84,
   "id": "b2d1954d",
   "metadata": {},
   "outputs": [
    {
     "name": "stdout",
     "output_type": "stream",
     "text": [
      "+--------------------+---------------+--------------+------------+-----------+\n",
      "|        customer_id1|offer_completed|offer_received|offer_viewed|transaction|\n",
      "+--------------------+---------------+--------------+------------+-----------+\n",
      "|5e0cac0673884c67b...|              0|             1|           1|          1|\n",
      "|d3c24fa42d0947a4b...|              1|             1|           1|          1|\n",
      "|b3d1075ec03c4c188...|              1|             1|           1|          1|\n",
      "|5abe3df001c14294a...|              1|             1|           1|          1|\n",
      "|f6c178ca2b1847d6b...|              1|             1|           1|          1|\n",
      "|f608dc84f5f744a88...|              1|             1|           1|          1|\n",
      "|e1e4b47968ef42509...|              1|             1|           1|          1|\n",
      "|3625554b70d8411bb...|              1|             1|           1|          1|\n",
      "|7b68d6af297344258...|              1|             1|           1|          1|\n",
      "|32a0f871e17c4cfdb...|              1|             1|           1|          1|\n",
      "|72c8dfba6eb44158a...|              1|             1|           1|          1|\n",
      "|daeccc82b26348ddb...|              0|             1|           1|          1|\n",
      "|d7fec020017649a7a...|              1|             1|           1|          1|\n",
      "|c05652fa9d2c4fac9...|              1|             1|           1|          1|\n",
      "|f1a97a4aabba4015b...|              1|             1|           1|          1|\n",
      "|ea1ecddf4814464cb...|              1|             1|           1|          1|\n",
      "|dfdd34f61d0645bca...|              1|             1|           1|          1|\n",
      "|8ca462f1192b4aa29...|              0|             1|           1|          1|\n",
      "|dd1069bbc7ef423c9...|              1|             1|           1|          1|\n",
      "|8bed51efb97049b58...|              0|             1|           1|          1|\n",
      "+--------------------+---------------+--------------+------------+-----------+\n",
      "only showing top 20 rows\n",
      "\n"
     ]
    }
   ],
   "source": [
    "transcript_event=transcript_event.withColumnRenamed('offer_id', 'offer_id1')\n",
    "transcript_event.show()"
   ]
  },
  {
   "cell_type": "code",
   "execution_count": 85,
   "id": "05558eea",
   "metadata": {},
   "outputs": [
    {
     "data": {
      "text/plain": [
       "17000"
      ]
     },
     "execution_count": 85,
     "metadata": {},
     "output_type": "execute_result"
    }
   ],
   "source": [
    "transcript_event.count()"
   ]
  },
  {
   "cell_type": "code",
   "execution_count": 86,
   "id": "a8bfad66",
   "metadata": {},
   "outputs": [
    {
     "name": "stdout",
     "output_type": "stream",
     "text": [
      "+--------------------+--------------------+---------------+--------------+------------+-----------+------+\n",
      "|        customer_id1|            offer_id|offer_completed|offer_received|offer_viewed|transaction|amount|\n",
      "+--------------------+--------------------+---------------+--------------+------------+-----------+------+\n",
      "|c05652fa9d2c4fac9...|9b98b8c7a33c4b65b...|              1|             1|           1|          1|  null|\n",
      "|9da3f2339b244229a...|4d5c57ea9a6940dd8...|              1|             1|           1|          1|  null|\n",
      "|fc58860830e648c9b...|9b98b8c7a33c4b65b...|              0|             1|           1|          1|  null|\n",
      "|f608dc84f5f744a88...|9b98b8c7a33c4b65b...|              1|             1|           1|          1|  null|\n",
      "|25540a042d7d4aabb...|2298d6c36e964ae4a...|              1|             1|           1|          1|  null|\n",
      "|f3acf14291c040a5b...|ae264e3637204a6fb...|              1|             1|           1|          1|  null|\n",
      "|c029ebbd5e584674b...|0b1e1539f2cc45b7b...|              0|             1|           1|          1|  null|\n",
      "|05ea8d8a95eb4b209...|f19421c1d4aa40978...|              1|             1|           1|          1|  null|\n",
      "|5dca7efd64aa40e9a...|f19421c1d4aa40978...|              0|             1|           1|          1|  null|\n",
      "|559943eeb754463e8...|0b1e1539f2cc45b7b...|              1|             1|           1|          1|  null|\n",
      "|016871ea865d43389...|2906b810c7d441179...|              1|             1|           1|          1|  null|\n",
      "|f1a97a4aabba4015b...|f19421c1d4aa40978...|              1|             1|           1|          1|  null|\n",
      "|d7fec020017649a7a...|9b98b8c7a33c4b65b...|              1|             1|           1|          1|  null|\n",
      "|8ca462f1192b4aa29...|9b98b8c7a33c4b65b...|              0|             1|           1|          1|  null|\n",
      "|b3d1075ec03c4c188...|f19421c1d4aa40978...|              1|             1|           1|          1|  null|\n",
      "|f83716ec38f44f038...|2906b810c7d441179...|              1|             1|           1|          1|  null|\n",
      "|738943cdecfd45348...|3f207df678b143eea...|              1|             1|           1|          1|  null|\n",
      "|dfdd34f61d0645bca...|fafdcd668e3743c1b...|              1|             1|           1|          1|  null|\n",
      "|6be0513109fe4d738...|4d5c57ea9a6940dd8...|              1|             1|           1|          1|  null|\n",
      "|ab25fd6fbd5040f88...|2298d6c36e964ae4a...|              1|             1|           1|          1|  null|\n",
      "+--------------------+--------------------+---------------+--------------+------------+-----------+------+\n",
      "only showing top 20 rows\n",
      "\n"
     ]
    }
   ],
   "source": [
    "tr_event=transcript_event.join(transcript,\n",
    "               transcript_event.customer_id1 == transcript.customer_id, \n",
    "               \"inner\")\n",
    "tr_event=tr_event.select('customer_id1','offer_id','offer_completed','offer_received','offer_viewed','transaction','amount')\n",
    "tr_event.show()"
   ]
  },
  {
   "cell_type": "code",
   "execution_count": 87,
   "id": "e6eba570",
   "metadata": {},
   "outputs": [
    {
     "data": {
      "text/plain": [
       "306534"
      ]
     },
     "execution_count": 87,
     "metadata": {},
     "output_type": "execute_result"
    }
   ],
   "source": [
    "tr_event.count()"
   ]
  },
  {
   "cell_type": "code",
   "execution_count": 88,
   "id": "7204004b",
   "metadata": {},
   "outputs": [
    {
     "name": "stdout",
     "output_type": "stream",
     "text": [
      "+--------------------+--------------------+---------------+--------------+------------+-----------+------+----+--------+-------------+\n",
      "|        customer_id1|            offer_id|offer_completed|offer_received|offer_viewed|transaction|amount|bogo|discount|informational|\n",
      "+--------------------+--------------------+---------------+--------------+------------+-----------+------+----+--------+-------------+\n",
      "|c05652fa9d2c4fac9...|9b98b8c7a33c4b65b...|              1|             1|           1|          1|   0.0|   1|       0|            0|\n",
      "|9da3f2339b244229a...|4d5c57ea9a6940dd8...|              1|             1|           1|          1|   0.0|   1|       0|            0|\n",
      "|fc58860830e648c9b...|9b98b8c7a33c4b65b...|              0|             1|           1|          1|   0.0|   1|       0|            0|\n",
      "|f608dc84f5f744a88...|9b98b8c7a33c4b65b...|              1|             1|           1|          1|   0.0|   1|       0|            0|\n",
      "|25540a042d7d4aabb...|2298d6c36e964ae4a...|              1|             1|           1|          1|   0.0|   0|       1|            0|\n",
      "|f3acf14291c040a5b...|ae264e3637204a6fb...|              1|             1|           1|          1|   0.0|   1|       0|            0|\n",
      "|c029ebbd5e584674b...|0b1e1539f2cc45b7b...|              0|             1|           1|          1|   0.0|   0|       1|            0|\n",
      "|05ea8d8a95eb4b209...|f19421c1d4aa40978...|              1|             1|           1|          1|   0.0|   1|       0|            0|\n",
      "|5dca7efd64aa40e9a...|f19421c1d4aa40978...|              0|             1|           1|          1|   0.0|   1|       0|            0|\n",
      "|559943eeb754463e8...|0b1e1539f2cc45b7b...|              1|             1|           1|          1|   0.0|   0|       1|            0|\n",
      "|016871ea865d43389...|2906b810c7d441179...|              1|             1|           1|          1|   0.0|   0|       1|            0|\n",
      "|f1a97a4aabba4015b...|f19421c1d4aa40978...|              1|             1|           1|          1|   0.0|   1|       0|            0|\n",
      "|d7fec020017649a7a...|9b98b8c7a33c4b65b...|              1|             1|           1|          1|   0.0|   1|       0|            0|\n",
      "|8ca462f1192b4aa29...|9b98b8c7a33c4b65b...|              0|             1|           1|          1|   0.0|   1|       0|            0|\n",
      "|b3d1075ec03c4c188...|f19421c1d4aa40978...|              1|             1|           1|          1|   0.0|   1|       0|            0|\n",
      "|f83716ec38f44f038...|2906b810c7d441179...|              1|             1|           1|          1|   0.0|   0|       1|            0|\n",
      "|738943cdecfd45348...|3f207df678b143eea...|              1|             1|           1|          1|   0.0|   0|       0|            1|\n",
      "|dfdd34f61d0645bca...|fafdcd668e3743c1b...|              1|             1|           1|          1|   0.0|   0|       1|            0|\n",
      "|6be0513109fe4d738...|4d5c57ea9a6940dd8...|              1|             1|           1|          1|   0.0|   1|       0|            0|\n",
      "|ab25fd6fbd5040f88...|2298d6c36e964ae4a...|              1|             1|           1|          1|   0.0|   0|       1|            0|\n",
      "+--------------------+--------------------+---------------+--------------+------------+-----------+------+----+--------+-------------+\n",
      "only showing top 20 rows\n",
      "\n"
     ]
    }
   ],
   "source": [
    "eventAndoffer_type=tr_event.join(prrtfolio_offer_type,\n",
    "               tr_event.offer_id == prrtfolio_offer_type.offer_id1, \n",
    "               \"inner\")\n",
    "eventAndoffer_type=eventAndoffer_type.na.fill(value=0)\n",
    "eventAndoffer_type=eventAndoffer_type.drop(col(\"offer_id1\"))\n",
    "eventAndoffer_type.show()"
   ]
  },
  {
   "cell_type": "code",
   "execution_count": 89,
   "id": "0c8e4f70",
   "metadata": {},
   "outputs": [
    {
     "data": {
      "text/plain": [
       "134002"
      ]
     },
     "execution_count": 89,
     "metadata": {},
     "output_type": "execute_result"
    }
   ],
   "source": [
    "eventAndoffer_type.count()"
   ]
  },
  {
   "cell_type": "code",
   "execution_count": 90,
   "id": "95b486f3",
   "metadata": {},
   "outputs": [
    {
     "name": "stdout",
     "output_type": "stream",
     "text": [
      "+--------------------+--------------------+---------------+--------------+------------+-----------+------+----+--------+-------------+---------+\n",
      "|        customer_id1|            offer_id|offer_completed|offer_received|offer_viewed|transaction|amount|bogo|discount|informational|cust_resp|\n",
      "+--------------------+--------------------+---------------+--------------+------------+-----------+------+----+--------+-------------+---------+\n",
      "|c05652fa9d2c4fac9...|9b98b8c7a33c4b65b...|              1|             1|           1|          1|   0.0|   1|       0|            0|        1|\n",
      "|9da3f2339b244229a...|4d5c57ea9a6940dd8...|              1|             1|           1|          1|   0.0|   1|       0|            0|        1|\n",
      "|fc58860830e648c9b...|9b98b8c7a33c4b65b...|              0|             1|           1|          1|   0.0|   1|       0|            0|     null|\n",
      "|f608dc84f5f744a88...|9b98b8c7a33c4b65b...|              1|             1|           1|          1|   0.0|   1|       0|            0|        1|\n",
      "|25540a042d7d4aabb...|2298d6c36e964ae4a...|              1|             1|           1|          1|   0.0|   0|       1|            0|        1|\n",
      "|f3acf14291c040a5b...|ae264e3637204a6fb...|              1|             1|           1|          1|   0.0|   1|       0|            0|        1|\n",
      "|c029ebbd5e584674b...|0b1e1539f2cc45b7b...|              0|             1|           1|          1|   0.0|   0|       1|            0|     null|\n",
      "|05ea8d8a95eb4b209...|f19421c1d4aa40978...|              1|             1|           1|          1|   0.0|   1|       0|            0|        1|\n",
      "|5dca7efd64aa40e9a...|f19421c1d4aa40978...|              0|             1|           1|          1|   0.0|   1|       0|            0|     null|\n",
      "|559943eeb754463e8...|0b1e1539f2cc45b7b...|              1|             1|           1|          1|   0.0|   0|       1|            0|        1|\n",
      "|016871ea865d43389...|2906b810c7d441179...|              1|             1|           1|          1|   0.0|   0|       1|            0|        1|\n",
      "|f1a97a4aabba4015b...|f19421c1d4aa40978...|              1|             1|           1|          1|   0.0|   1|       0|            0|        1|\n",
      "|d7fec020017649a7a...|9b98b8c7a33c4b65b...|              1|             1|           1|          1|   0.0|   1|       0|            0|        1|\n",
      "|8ca462f1192b4aa29...|9b98b8c7a33c4b65b...|              0|             1|           1|          1|   0.0|   1|       0|            0|     null|\n",
      "|b3d1075ec03c4c188...|f19421c1d4aa40978...|              1|             1|           1|          1|   0.0|   1|       0|            0|        1|\n",
      "|f83716ec38f44f038...|2906b810c7d441179...|              1|             1|           1|          1|   0.0|   0|       1|            0|        1|\n",
      "|738943cdecfd45348...|3f207df678b143eea...|              1|             1|           1|          1|   0.0|   0|       0|            1|     null|\n",
      "|dfdd34f61d0645bca...|fafdcd668e3743c1b...|              1|             1|           1|          1|   0.0|   0|       1|            0|        1|\n",
      "|6be0513109fe4d738...|4d5c57ea9a6940dd8...|              1|             1|           1|          1|   0.0|   1|       0|            0|        1|\n",
      "|ab25fd6fbd5040f88...|2298d6c36e964ae4a...|              1|             1|           1|          1|   0.0|   0|       1|            0|        1|\n",
      "+--------------------+--------------------+---------------+--------------+------------+-----------+------+----+--------+-------------+---------+\n",
      "only showing top 20 rows\n",
      "\n"
     ]
    }
   ],
   "source": [
    "with_cust_resp=eventAndoffer_type.withColumn('cust_resp', when(((((col('offer_viewed') == 1) &  (col('offer_completed') == 1)) &\n",
    "                                                       ((col('bogo') == 1) | (col('discount') == 1))) | \n",
    "                                                               ((col('offer_received') == 1) & (col('informational') == 1) & (col('amount') > 0) )) ,lit(1)))\n",
    "\n",
    "with_cust_resp.show()"
   ]
  },
  {
   "cell_type": "code",
   "execution_count": 91,
   "id": "7b6a7690",
   "metadata": {},
   "outputs": [
    {
     "name": "stdout",
     "output_type": "stream",
     "text": [
      "+---------+-----+\n",
      "|cust_resp|count|\n",
      "+---------+-----+\n",
      "|     null|50218|\n",
      "|        1|83784|\n",
      "+---------+-----+\n",
      "\n"
     ]
    }
   ],
   "source": [
    "with_cust_resp.groupBy('cust_resp').count().show()"
   ]
  },
  {
   "cell_type": "code",
   "execution_count": 92,
   "id": "2ccb1c6f",
   "metadata": {},
   "outputs": [
    {
     "name": "stdout",
     "output_type": "stream",
     "text": [
      "+--------------------+---------+\n",
      "|        customer_id1|cust_resp|\n",
      "+--------------------+---------+\n",
      "|c05652fa9d2c4fac9...|        1|\n",
      "|9da3f2339b244229a...|        1|\n",
      "|fc58860830e648c9b...|     null|\n",
      "|f608dc84f5f744a88...|        1|\n",
      "|25540a042d7d4aabb...|        1|\n",
      "|f3acf14291c040a5b...|        1|\n",
      "|c029ebbd5e584674b...|     null|\n",
      "|05ea8d8a95eb4b209...|        1|\n",
      "|5dca7efd64aa40e9a...|     null|\n",
      "|559943eeb754463e8...|        1|\n",
      "|016871ea865d43389...|        1|\n",
      "|f1a97a4aabba4015b...|        1|\n",
      "|d7fec020017649a7a...|        1|\n",
      "|8ca462f1192b4aa29...|     null|\n",
      "|b3d1075ec03c4c188...|        1|\n",
      "|f83716ec38f44f038...|        1|\n",
      "|738943cdecfd45348...|     null|\n",
      "|dfdd34f61d0645bca...|        1|\n",
      "|6be0513109fe4d738...|        1|\n",
      "|ab25fd6fbd5040f88...|        1|\n",
      "+--------------------+---------+\n",
      "only showing top 20 rows\n",
      "\n"
     ]
    }
   ],
   "source": [
    "with_cust_resp=with_cust_resp.select('customer_id1','cust_resp')\n",
    "with_cust_resp.show()"
   ]
  },
  {
   "cell_type": "code",
   "execution_count": 93,
   "id": "dea95e9b",
   "metadata": {},
   "outputs": [
    {
     "data": {
      "text/plain": [
       "134002"
      ]
     },
     "execution_count": 93,
     "metadata": {},
     "output_type": "execute_result"
    }
   ],
   "source": [
    "with_cust_resp.count()"
   ]
  },
  {
   "cell_type": "markdown",
   "id": "c8401dd6",
   "metadata": {},
   "source": [
    "# Combining Datasets"
   ]
  },
  {
   "cell_type": "code",
   "execution_count": 94,
   "id": "5560f1e8",
   "metadata": {
    "scrolled": false
   },
   "outputs": [],
   "source": [
    "combined_data1=transcript_1.join(profile_1,transcript_1.customer_id == profile_1.customer_id_gender, \"inner\")\\\n",
    ".drop('offer_id1','customer_id_gender')\n",
    "combined_data1=combined_data1.join(portfolio_1,[\"offer_id\"], \"inner\")\\\n",
    ".drop('offer_id1')\n",
    "combined_data1=combined_data1.join(with_cust_resp,combined_data1.customer_id == with_cust_resp.customer_id1, \"inner\")\\\n",
    ".drop('customer_id1','age','drop_col','offer_completed','offer_received','offer_viewed','transaction','became_member_on')\n",
    "combined_data1=combined_data1.na.fill(value=0)\n",
    "combined_data1=combined_data1.na.drop()\n",
    "#combined_data1.printSchema()"
   ]
  },
  {
   "cell_type": "code",
   "execution_count": 95,
   "id": "60d030df",
   "metadata": {},
   "outputs": [
    {
     "data": {
      "text/plain": [
       "979065"
      ]
     },
     "execution_count": 95,
     "metadata": {},
     "output_type": "execute_result"
    }
   ],
   "source": [
    "combined_data1.count()"
   ]
  },
  {
   "cell_type": "code",
   "execution_count": 96,
   "id": "ddc5bff8",
   "metadata": {},
   "outputs": [
    {
     "name": "stdout",
     "output_type": "stream",
     "text": [
      "+---------+------+\n",
      "|cust_resp| count|\n",
      "+---------+------+\n",
      "|        1|669434|\n",
      "|        0|309631|\n",
      "+---------+------+\n",
      "\n"
     ]
    }
   ],
   "source": [
    "combined_data1.groupBy('cust_resp').count().show()"
   ]
  },
  {
   "cell_type": "code",
   "execution_count": 97,
   "id": "284fb9f9",
   "metadata": {},
   "outputs": [
    {
     "data": {
      "text/plain": [
       "306534"
      ]
     },
     "execution_count": 97,
     "metadata": {},
     "output_type": "execute_result"
    }
   ],
   "source": [
    "transcript_1.count()"
   ]
  },
  {
   "cell_type": "code",
   "execution_count": 98,
   "id": "dfdae9ae",
   "metadata": {},
   "outputs": [
    {
     "data": {
      "text/plain": [
       "14825"
      ]
     },
     "execution_count": 98,
     "metadata": {},
     "output_type": "execute_result"
    }
   ],
   "source": [
    "profile_1.count()"
   ]
  },
  {
   "cell_type": "code",
   "execution_count": 99,
   "id": "2de63154",
   "metadata": {},
   "outputs": [
    {
     "data": {
      "text/plain": [
       "10"
      ]
     },
     "execution_count": 99,
     "metadata": {},
     "output_type": "execute_result"
    }
   ],
   "source": [
    "portfolio_1.count()"
   ]
  },
  {
   "cell_type": "code",
   "execution_count": 100,
   "id": "77730833",
   "metadata": {},
   "outputs": [
    {
     "data": {
      "text/plain": [
       "134002"
      ]
     },
     "execution_count": 100,
     "metadata": {},
     "output_type": "execute_result"
    }
   ],
   "source": [
    "with_cust_resp.count()"
   ]
  },
  {
   "cell_type": "code",
   "execution_count": 101,
   "id": "cc1aed8d",
   "metadata": {},
   "outputs": [],
   "source": [
    "#Dumping the data in mongodb\n",
    "#ml = spark.read.format(\"mongo\").option(\"uri\",\"mongodb://localhost:27017/starbucks.Data\").load()\n",
    "#combined_data1.write.format(\"mongo\").option(\"uri\",\"mongodb://localhost:27017/starbucks.Data\").save()"
   ]
  },
  {
   "cell_type": "markdown",
   "id": "2f36ba37",
   "metadata": {},
   "source": [
    "# ==============================================================="
   ]
  },
  {
   "cell_type": "code",
   "execution_count": 102,
   "id": "73406053",
   "metadata": {},
   "outputs": [
    {
     "name": "stdout",
     "output_type": "stream",
     "text": [
      "+--------------------+---------+\n",
      "|        customer_id1|comp_bogo|\n",
      "+--------------------+---------+\n",
      "|c05652fa9d2c4fac9...|        8|\n",
      "|9da3f2339b244229a...|        4|\n",
      "|f608dc84f5f744a88...|        5|\n",
      "|f3acf14291c040a5b...|        1|\n",
      "|05ea8d8a95eb4b209...|        4|\n",
      "|f1a97a4aabba4015b...|        7|\n",
      "|d7fec020017649a7a...|        3|\n",
      "|b3d1075ec03c4c188...|        4|\n",
      "|6be0513109fe4d738...|        4|\n",
      "|708d8271f758417e9...|        4|\n",
      "|876ca8a8eacf44cda...|        3|\n",
      "|72c8dfba6eb44158a...|        5|\n",
      "|d3c24fa42d0947a4b...|        4|\n",
      "|5abe3df001c14294a...|        8|\n",
      "|7d650753a27846f5a...|        4|\n",
      "|3625554b70d8411bb...|        4|\n",
      "|fdcb232e66d8452d9...|        9|\n",
      "|c32b39e1886d4ec2a...|        8|\n",
      "|e4b82a439eed4edea...|        2|\n",
      "|36ef980d4deb42ee9...|        5|\n",
      "+--------------------+---------+\n",
      "only showing top 20 rows\n",
      "\n"
     ]
    }
   ],
   "source": [
    "cust_resp1=eventAndoffer_type.withColumn('new_col', when((col('bogo') == 1) & (col('offer_received') == 1) & (col('offer_completed') == 1),'comp_bogo')).withColumn('drop_col',lit(1))\n",
    "cust_resp1=cust_resp1.groupBy('customer_id1').pivot('new_col').sum('drop_col')\n",
    "cust_resp1=cust_resp1.drop(col('null'))\n",
    "cust_resp1.show()"
   ]
  },
  {
   "cell_type": "code",
   "execution_count": 103,
   "id": "e3aaa6a6",
   "metadata": {},
   "outputs": [
    {
     "name": "stdout",
     "output_type": "stream",
     "text": [
      "+---------+-----+\n",
      "|comp_bogo|count|\n",
      "+---------+-----+\n",
      "|        7|  285|\n",
      "|     null| 5647|\n",
      "|        6| 1503|\n",
      "|        9|   50|\n",
      "|        5|  786|\n",
      "|        1|  570|\n",
      "|       10|   60|\n",
      "|        3| 1101|\n",
      "|       12|    6|\n",
      "|        8|  397|\n",
      "|        2| 3345|\n",
      "|        4| 3241|\n",
      "|       11|    3|\n",
      "+---------+-----+\n",
      "\n"
     ]
    }
   ],
   "source": [
    "cust_resp1.groupBy('comp_bogo').count().show()"
   ]
  },
  {
   "cell_type": "code",
   "execution_count": 104,
   "id": "2c62b3ce",
   "metadata": {},
   "outputs": [
    {
     "data": {
      "text/plain": [
       "16994"
      ]
     },
     "execution_count": 104,
     "metadata": {},
     "output_type": "execute_result"
    }
   ],
   "source": [
    "cust_resp1.count()"
   ]
  },
  {
   "cell_type": "code",
   "execution_count": 105,
   "id": "d615528a",
   "metadata": {},
   "outputs": [
    {
     "name": "stdout",
     "output_type": "stream",
     "text": [
      "+--------------------+---------+\n",
      "|        customer_id1|comp_disc|\n",
      "+--------------------+---------+\n",
      "|25540a042d7d4aabb...|        2|\n",
      "|559943eeb754463e8...|        1|\n",
      "|016871ea865d43389...|        2|\n",
      "|f83716ec38f44f038...|        4|\n",
      "|dfdd34f61d0645bca...|        6|\n",
      "|ab25fd6fbd5040f88...|        6|\n",
      "|ea1ecddf4814464cb...|        8|\n",
      "|01e09d713abe4a36a...|        2|\n",
      "|74450de8dc654737b...|        4|\n",
      "|37aa48f7035f4b808...|        5|\n",
      "|6aea2f1dd8ab4ff68...|        4|\n",
      "|304183fd053441f0a...|        2|\n",
      "|793a91c8f72d45029...|        6|\n",
      "|38197aa576534853a...|        3|\n",
      "|7b68d6af297344258...|        2|\n",
      "|907e78791e0a4e58b...|        6|\n",
      "|dd1069bbc7ef423c9...|        5|\n",
      "|628d90cb330a4c42a...|        8|\n",
      "|5c73c99208e449129...|        6|\n",
      "|bea39bf06adf4610b...|       12|\n",
      "+--------------------+---------+\n",
      "only showing top 20 rows\n",
      "\n"
     ]
    }
   ],
   "source": [
    "cust_resp2=eventAndoffer_type.withColumn('new_col', when((col('discount') == 1) & (col('offer_received') == 1) & (col('offer_completed') == 1),'comp_disc')).withColumn('drop_col',lit(1))\n",
    "cust_resp2=cust_resp2.groupBy('customer_id1').pivot('new_col').sum('drop_col')\n",
    "cust_resp2=cust_resp2.drop(col('null'))\n",
    "cust_resp2.show()"
   ]
  },
  {
   "cell_type": "code",
   "execution_count": 106,
   "id": "ac3757fe",
   "metadata": {},
   "outputs": [
    {
     "name": "stdout",
     "output_type": "stream",
     "text": [
      "+--------------------+---------+---------+\n",
      "|        customer_id1|comp_disc|comp_bogo|\n",
      "+--------------------+---------+---------+\n",
      "|0020ccbbb6d84e358...|        2|        4|\n",
      "|004b041fbfe448599...|        2|        2|\n",
      "|0056df74b63b42988...|        3|        2|\n",
      "|008d7088107b46889...|     null|     null|\n",
      "|0092a132ead946ceb...|     null|     null|\n",
      "|00aee28bbb3848dd8...|     null|     null|\n",
      "|00bbce6533f44ddea...|        4|        2|\n",
      "|00bc983061d3471e8...|        3|        3|\n",
      "|00c6035df45840038...|        4|        2|\n",
      "|00e9f403afa641889...|        5|     null|\n",
      "|01162252405b4524a...|        5|        3|\n",
      "|016871ea865d43389...|        2|        1|\n",
      "|01de69b5edab4b898...|        4|     null|\n",
      "|01e09d713abe4a36a...|        2|        2|\n",
      "|01e91c5bc14148b2a...|        8|        2|\n",
      "|01f33ff554d0443a9...|        2|        1|\n",
      "|01fe5ec668f241608...|     null|     null|\n",
      "|0206e1388c34454ca...|     null|        4|\n",
      "|029e063479234fb1b...|        2|        3|\n",
      "|02a3aa431c1047be8...|        2|        6|\n",
      "+--------------------+---------+---------+\n",
      "only showing top 20 rows\n",
      "\n"
     ]
    }
   ],
   "source": [
    "two=cust_resp2.join(cust_resp1,['customer_id1'], \"inner\")\n",
    "two.show()"
   ]
  },
  {
   "cell_type": "code",
   "execution_count": 107,
   "id": "3fec6fa1",
   "metadata": {},
   "outputs": [
    {
     "name": "stdout",
     "output_type": "stream",
     "text": [
      "+---------+-----+\n",
      "|comp_disc|count|\n",
      "+---------+-----+\n",
      "|        7|  277|\n",
      "|     null| 5536|\n",
      "|        6| 1238|\n",
      "|        9|   49|\n",
      "|        5|  946|\n",
      "|        1|  897|\n",
      "|       10|   43|\n",
      "|        3| 1641|\n",
      "|       12|    2|\n",
      "|        8|  292|\n",
      "|       11|    3|\n",
      "|        2| 3141|\n",
      "|        4| 2929|\n",
      "+---------+-----+\n",
      "\n"
     ]
    }
   ],
   "source": [
    "two.groupBy('comp_disc').count().show()"
   ]
  },
  {
   "cell_type": "code",
   "execution_count": 108,
   "id": "e6866b92",
   "metadata": {},
   "outputs": [
    {
     "name": "stdout",
     "output_type": "stream",
     "text": [
      "+---------+-----+\n",
      "|comp_bogo|count|\n",
      "+---------+-----+\n",
      "|        7|  285|\n",
      "|     null| 5647|\n",
      "|        6| 1503|\n",
      "|        9|   50|\n",
      "|        5|  786|\n",
      "|        1|  570|\n",
      "|       10|   60|\n",
      "|        3| 1101|\n",
      "|       12|    6|\n",
      "|        8|  397|\n",
      "|        2| 3345|\n",
      "|        4| 3241|\n",
      "|       11|    3|\n",
      "+---------+-----+\n",
      "\n"
     ]
    }
   ],
   "source": [
    "two.groupBy('comp_bogo').count().show()"
   ]
  },
  {
   "cell_type": "code",
   "execution_count": 109,
   "id": "93cd4976",
   "metadata": {},
   "outputs": [
    {
     "name": "stdout",
     "output_type": "stream",
     "text": [
      "+--------------------+---------+\n",
      "|        customer_id1|comp_info|\n",
      "+--------------------+---------+\n",
      "|c05652fa9d2c4fac9...|       10|\n",
      "|9da3f2339b244229a...|        7|\n",
      "|fc58860830e648c9b...|        6|\n",
      "|f608dc84f5f744a88...|        8|\n",
      "|25540a042d7d4aabb...|        5|\n",
      "|f3acf14291c040a5b...|        7|\n",
      "|c029ebbd5e584674b...|        9|\n",
      "|05ea8d8a95eb4b209...|        5|\n",
      "|5dca7efd64aa40e9a...|        6|\n",
      "|559943eeb754463e8...|        3|\n",
      "|016871ea865d43389...|        8|\n",
      "|f1a97a4aabba4015b...|        9|\n",
      "|d7fec020017649a7a...|       10|\n",
      "|8ca462f1192b4aa29...|        7|\n",
      "|b3d1075ec03c4c188...|        8|\n",
      "|f83716ec38f44f038...|       11|\n",
      "|738943cdecfd45348...|       11|\n",
      "|dfdd34f61d0645bca...|        8|\n",
      "|6be0513109fe4d738...|        7|\n",
      "|ab25fd6fbd5040f88...|        9|\n",
      "+--------------------+---------+\n",
      "only showing top 20 rows\n",
      "\n"
     ]
    }
   ],
   "source": [
    "cust_resp3=eventAndoffer_type.withColumn('new_col', when((col('informational') == 1) & (col('offer_received') == 1) & (col('amount') > 0),'comp_disc')).withColumn('drop_col',lit(1))\n",
    "cust_resp3=cust_resp3.groupBy('customer_id1').pivot('new_col').sum('drop_col')\n",
    "cust_resp3=cust_resp3.withColumnRenamed(\"null\",\"comp_info\")\n",
    "cust_resp3.show()"
   ]
  },
  {
   "cell_type": "code",
   "execution_count": 110,
   "id": "bbc1c9a8",
   "metadata": {},
   "outputs": [
    {
     "name": "stdout",
     "output_type": "stream",
     "text": [
      "+---------+-----+\n",
      "|comp_info|count|\n",
      "+---------+-----+\n",
      "|        7| 2376|\n",
      "|        6| 2375|\n",
      "|        9| 2292|\n",
      "|        5| 1098|\n",
      "|        1|    8|\n",
      "|       10| 2700|\n",
      "|        3|  209|\n",
      "|       12|  815|\n",
      "|        8| 3518|\n",
      "|       11|  749|\n",
      "|        2|  106|\n",
      "|        4|  748|\n",
      "+---------+-----+\n",
      "\n"
     ]
    }
   ],
   "source": [
    "cust_resp3.groupBy('comp_info').count().show()"
   ]
  },
  {
   "cell_type": "code",
   "execution_count": 111,
   "id": "3dbb633d",
   "metadata": {},
   "outputs": [
    {
     "name": "stdout",
     "output_type": "stream",
     "text": [
      "+--------------------+---------+---------+---------+\n",
      "|        customer_id1|comp_disc|comp_bogo|comp_info|\n",
      "+--------------------+---------+---------+---------+\n",
      "|0020ccbbb6d84e358...|        2|        4|        8|\n",
      "|004b041fbfe448599...|        2|        2|        5|\n",
      "|0056df74b63b42988...|        3|        2|        7|\n",
      "|008d7088107b46889...|     null|     null|       11|\n",
      "|0092a132ead946ceb...|     null|     null|       12|\n",
      "|00aee28bbb3848dd8...|     null|     null|        5|\n",
      "|00bbce6533f44ddea...|        4|        2|        8|\n",
      "|00bc983061d3471e8...|        3|        3|        6|\n",
      "|00c6035df45840038...|        4|        2|        8|\n",
      "|00e9f403afa641889...|        5|     null|        9|\n",
      "|01162252405b4524a...|        5|        3|       10|\n",
      "|016871ea865d43389...|        2|        1|        8|\n",
      "|01de69b5edab4b898...|        4|     null|        7|\n",
      "|01e09d713abe4a36a...|        2|        2|        5|\n",
      "|01e91c5bc14148b2a...|        8|        2|       10|\n",
      "|01f33ff554d0443a9...|        2|        1|        6|\n",
      "|01fe5ec668f241608...|     null|     null|        2|\n",
      "|0206e1388c34454ca...|     null|        4|        8|\n",
      "|029e063479234fb1b...|        2|        3|        6|\n",
      "|02a3aa431c1047be8...|        2|        6|        8|\n",
      "+--------------------+---------+---------+---------+\n",
      "only showing top 20 rows\n",
      "\n"
     ]
    }
   ],
   "source": [
    "three=two.join(cust_resp3,['customer_id1'], \"inner\")\n",
    "three.show()"
   ]
  },
  {
   "cell_type": "code",
   "execution_count": 112,
   "id": "7f6c2099",
   "metadata": {},
   "outputs": [
    {
     "name": "stdout",
     "output_type": "stream",
     "text": [
      "+--------------------+---------+\n",
      "|        customer_id1|cust_resp|\n",
      "+--------------------+---------+\n",
      "|0020ccbbb6d84e358...|        1|\n",
      "|004b041fbfe448599...|        1|\n",
      "|0056df74b63b42988...|        1|\n",
      "|00bbce6533f44ddea...|        1|\n",
      "|00bc983061d3471e8...|        1|\n",
      "|00c6035df45840038...|        1|\n",
      "|01162252405b4524a...|        1|\n",
      "|016871ea865d43389...|        1|\n",
      "|01e09d713abe4a36a...|        1|\n",
      "|01e91c5bc14148b2a...|        1|\n",
      "|01f33ff554d0443a9...|        1|\n",
      "|029e063479234fb1b...|        1|\n",
      "|02a3aa431c1047be8...|        1|\n",
      "|02b5aa5725f94bcb9...|        1|\n",
      "|02e4c9dff62e4857a...|        1|\n",
      "|02efe413dd194069a...|        1|\n",
      "|03019e49a5164723a...|        1|\n",
      "|032aaa79b15e4103a...|        1|\n",
      "|033fed8bb1504885b...|        1|\n",
      "|035d5aa3c23a4059a...|        1|\n",
      "+--------------------+---------+\n",
      "only showing top 20 rows\n",
      "\n"
     ]
    }
   ],
   "source": [
    "cust_resp=three.withColumn('new_col', when((col('comp_info')> 0) & (col('comp_bogo') > 0) & (col('comp_disc') > 0),'cust_resp')).withColumn('drop_col',lit(1))\n",
    "cust_resp=cust_resp.groupBy('customer_id1').pivot('new_col').sum('drop_col')\n",
    "cust_resp=cust_resp.drop(col('null'))\n",
    "cust_resp.show()"
   ]
  },
  {
   "cell_type": "code",
   "execution_count": 113,
   "id": "2c4a1480",
   "metadata": {},
   "outputs": [
    {
     "name": "stdout",
     "output_type": "stream",
     "text": [
      "+---------+-----+\n",
      "|cust_resp|count|\n",
      "+---------+-----+\n",
      "|     null| 6963|\n",
      "|        1|10031|\n",
      "+---------+-----+\n",
      "\n"
     ]
    }
   ],
   "source": [
    "cust_resp.groupBy('cust_resp').count().show()"
   ]
  },
  {
   "cell_type": "code",
   "execution_count": 114,
   "id": "47c97013",
   "metadata": {},
   "outputs": [],
   "source": [
    "combined_data2=transcript_1.join(profile_1,transcript_1.customer_id == profile_1.customer_id_gender, \"inner\")\\\n",
    ".drop('offer_id1','customer_id_gender')\n",
    "combined_data2=combined_data2.join(portfolio_1,[\"offer_id\"], \"inner\")\\\n",
    ".drop('offer_id1')\n",
    "combined_data2=combined_data2.join(cust_resp,combined_data1.customer_id == cust_resp.customer_id1, \"inner\")\\\n",
    ".drop('customer_id1','age','drop_col','offer_completed','offer_received','offer_viewed','transaction','became_member_on')\n",
    "combined_data2=combined_data2.na.fill(value=0)\n",
    "combined_data2=combined_data2.na.drop()"
   ]
  },
  {
   "cell_type": "code",
   "execution_count": 115,
   "id": "67d8b1e4",
   "metadata": {},
   "outputs": [
    {
     "data": {
      "text/plain": [
       "116361"
      ]
     },
     "execution_count": 115,
     "metadata": {},
     "output_type": "execute_result"
    }
   ],
   "source": [
    "combined_data2.count()"
   ]
  },
  {
   "cell_type": "code",
   "execution_count": 116,
   "id": "ec39fc43",
   "metadata": {},
   "outputs": [
    {
     "name": "stdout",
     "output_type": "stream",
     "text": [
      "+---------+-----+\n",
      "|cust_resp|count|\n",
      "+---------+-----+\n",
      "|        0|38333|\n",
      "|        1|78028|\n",
      "+---------+-----+\n",
      "\n"
     ]
    }
   ],
   "source": [
    "combined_data2.groupBy('cust_resp').count().show()"
   ]
  },
  {
   "cell_type": "code",
   "execution_count": 117,
   "id": "a9ee65d9",
   "metadata": {},
   "outputs": [
    {
     "name": "stdout",
     "output_type": "stream",
     "text": [
      "root\n",
      " |-- offer_id: string (nullable = true)\n",
      " |-- event: string (nullable = true)\n",
      " |-- customer_id: string (nullable = true)\n",
      " |-- time: long (nullable = true)\n",
      " |-- amount: double (nullable = false)\n",
      " |-- reward: long (nullable = true)\n",
      " |-- F: long (nullable = true)\n",
      " |-- M: long (nullable = true)\n",
      " |-- O: long (nullable = true)\n",
      " |-- 1: long (nullable = true)\n",
      " |-- 2: long (nullable = true)\n",
      " |-- 3: long (nullable = true)\n",
      " |-- 4: long (nullable = true)\n",
      " |-- 5: long (nullable = true)\n",
      " |-- 6: long (nullable = true)\n",
      " |-- 7: long (nullable = true)\n",
      " |-- 8: long (nullable = true)\n",
      " |-- 9: long (nullable = true)\n",
      " |-- 10: long (nullable = true)\n",
      " |-- 11: long (nullable = true)\n",
      " |-- 12: long (nullable = true)\n",
      " |-- income_30: long (nullable = true)\n",
      " |-- income_100: long (nullable = true)\n",
      " |-- income_110: long (nullable = true)\n",
      " |-- income_120: long (nullable = true)\n",
      " |-- income_40: long (nullable = true)\n",
      " |-- income_50: long (nullable = true)\n",
      " |-- income_60: long (nullable = true)\n",
      " |-- income_70: long (nullable = true)\n",
      " |-- income_80: long (nullable = true)\n",
      " |-- income_90: long (nullable = true)\n",
      " |-- 2013: long (nullable = true)\n",
      " |-- 2014: long (nullable = true)\n",
      " |-- 2015: long (nullable = true)\n",
      " |-- 2016: long (nullable = true)\n",
      " |-- 2017: long (nullable = true)\n",
      " |-- 2018: long (nullable = true)\n",
      " |-- age_10: long (nullable = true)\n",
      " |-- age_100: long (nullable = true)\n",
      " |-- age_20: long (nullable = true)\n",
      " |-- age_30: long (nullable = true)\n",
      " |-- age_40: long (nullable = true)\n",
      " |-- age_50: long (nullable = true)\n",
      " |-- age_60: long (nullable = true)\n",
      " |-- age_70: long (nullable = true)\n",
      " |-- age_80: long (nullable = true)\n",
      " |-- age_90: long (nullable = true)\n",
      " |-- bogo: long (nullable = true)\n",
      " |-- discount: long (nullable = true)\n",
      " |-- informational: long (nullable = true)\n",
      " |-- email: long (nullable = true)\n",
      " |-- mobile: long (nullable = true)\n",
      " |-- social: long (nullable = true)\n",
      " |-- web: long (nullable = true)\n",
      " |-- duration: double (nullable = false)\n",
      " |-- difficulty: long (nullable = true)\n",
      " |-- cust_resp: long (nullable = true)\n",
      "\n"
     ]
    }
   ],
   "source": [
    "combined_data2.printSchema()"
   ]
  },
  {
   "cell_type": "code",
   "execution_count": 118,
   "id": "c4fd5d10",
   "metadata": {},
   "outputs": [],
   "source": [
    "#Dumping the data in mongodb\n",
    "#ml = spark.read.format(\"mongo\").option(\"uri\",\"mongodb://localhost:27017/starbucks.str_Data\").load()\n",
    "#combined_data2.write.format(\"mongo\").option(\"uri\",\"mongodb://localhost:27017/starbucks.str_Data\").save()"
   ]
  },
  {
   "cell_type": "code",
   "execution_count": 119,
   "id": "89db0935",
   "metadata": {},
   "outputs": [],
   "source": [
    "import pandas as pd\n",
    "import numpy as np\n",
    "import math\n",
    "import json\n",
    "from datetime import datetime\n",
    "import matplotlib.pyplot as plt\n",
    "import seaborn as sns"
   ]
  },
  {
   "cell_type": "code",
   "execution_count": null,
   "id": "c1f72163",
   "metadata": {},
   "outputs": [],
   "source": []
  },
  {
   "cell_type": "code",
   "execution_count": null,
   "id": "fbc09803",
   "metadata": {},
   "outputs": [],
   "source": []
  }
 ],
 "metadata": {
  "kernelspec": {
   "display_name": "Python 3 (ipykernel)",
   "language": "python",
   "name": "python3"
  },
  "language_info": {
   "codemirror_mode": {
    "name": "ipython",
    "version": 3
   },
   "file_extension": ".py",
   "mimetype": "text/x-python",
   "name": "python",
   "nbconvert_exporter": "python",
   "pygments_lexer": "ipython3",
   "version": "3.10.4"
  }
 },
 "nbformat": 4,
 "nbformat_minor": 5
}
